{
 "cells": [
  {
   "cell_type": "markdown",
   "metadata": {},
   "source": [
    "## Projet Deep Learning : Reconnaissance d'images de pays\n",
    "## **Preprocessing**\n",
    "\n",
    "#### Dataset: \n",
    "Google Landmarks Dataset v2 :\n",
    "https://github.com/cvdfoundation/google-landmark?tab=readme-ov-file\n",
    "\n",
    "\n",
    "#### Objectif du projet :\n",
    "<p style=\"text-align: justify;\">\n",
    "    L'objectif de ce projet est de développer une solution de Deep Learning pour la reconnaissance d'images. L'input sera une image d'un lieu, et la sortie du modèle sera le pays correspondant, accompagnée de probabilités d'appartenance.\n",
    "</p>\n"
   ]
  },
  {
   "cell_type": "code",
   "execution_count": null,
   "metadata": {},
   "outputs": [],
   "source": [
    "# Packages\n",
    "import json\n",
    "import pandas as pd\n",
    "import torch\n",
    "from torch.utils.data import TensorDataset, DataLoader\n",
    "from collections import Counter\n",
    "\n",
    "from preprocessing import Preprocessing"
   ]
  },
  {
   "cell_type": "code",
   "execution_count": 2,
   "metadata": {},
   "outputs": [],
   "source": [
    "# Variables globales\n",
    "DATA_PATH = \"data/train\"\n",
    "DATA_IMAGES_PATH = \"data/train/images\"\n",
    "DATA_RESULTS = \"data/results\""
   ]
  },
  {
   "cell_type": "markdown",
   "metadata": {},
   "source": [
    "### Importation des données"
   ]
  },
  {
   "cell_type": "code",
   "execution_count": 3,
   "metadata": {},
   "outputs": [
    {
     "data": {
      "text/html": [
       "<div>\n",
       "<style scoped>\n",
       "    .dataframe tbody tr th:only-of-type {\n",
       "        vertical-align: middle;\n",
       "    }\n",
       "\n",
       "    .dataframe tbody tr th {\n",
       "        vertical-align: top;\n",
       "    }\n",
       "\n",
       "    .dataframe thead th {\n",
       "        text-align: right;\n",
       "    }\n",
       "</style>\n",
       "<table border=\"1\" class=\"dataframe\">\n",
       "  <thead>\n",
       "    <tr style=\"text-align: right;\">\n",
       "      <th></th>\n",
       "      <th>id</th>\n",
       "      <th>url</th>\n",
       "      <th>landmark_id</th>\n",
       "    </tr>\n",
       "  </thead>\n",
       "  <tbody>\n",
       "    <tr>\n",
       "      <th>0</th>\n",
       "      <td>6e158a47eb2ca3f6</td>\n",
       "      <td>https://upload.wikimedia.org/wikipedia/commons...</td>\n",
       "      <td>142820</td>\n",
       "    </tr>\n",
       "    <tr>\n",
       "      <th>1</th>\n",
       "      <td>202cd79556f30760</td>\n",
       "      <td>http://upload.wikimedia.org/wikipedia/commons/...</td>\n",
       "      <td>104169</td>\n",
       "    </tr>\n",
       "    <tr>\n",
       "      <th>2</th>\n",
       "      <td>3ad87684c99c06e1</td>\n",
       "      <td>http://upload.wikimedia.org/wikipedia/commons/...</td>\n",
       "      <td>37914</td>\n",
       "    </tr>\n",
       "    <tr>\n",
       "      <th>3</th>\n",
       "      <td>e7f70e9c61e66af3</td>\n",
       "      <td>https://upload.wikimedia.org/wikipedia/commons...</td>\n",
       "      <td>102140</td>\n",
       "    </tr>\n",
       "    <tr>\n",
       "      <th>4</th>\n",
       "      <td>4072182eddd0100e</td>\n",
       "      <td>https://upload.wikimedia.org/wikipedia/commons...</td>\n",
       "      <td>2474</td>\n",
       "    </tr>\n",
       "  </tbody>\n",
       "</table>\n",
       "</div>"
      ],
      "text/plain": [
       "                 id                                                url  \\\n",
       "0  6e158a47eb2ca3f6  https://upload.wikimedia.org/wikipedia/commons...   \n",
       "1  202cd79556f30760  http://upload.wikimedia.org/wikipedia/commons/...   \n",
       "2  3ad87684c99c06e1  http://upload.wikimedia.org/wikipedia/commons/...   \n",
       "3  e7f70e9c61e66af3  https://upload.wikimedia.org/wikipedia/commons...   \n",
       "4  4072182eddd0100e  https://upload.wikimedia.org/wikipedia/commons...   \n",
       "\n",
       "   landmark_id  \n",
       "0       142820  \n",
       "1       104169  \n",
       "2        37914  \n",
       "3       102140  \n",
       "4         2474  "
      ]
     },
     "execution_count": 3,
     "metadata": {},
     "output_type": "execute_result"
    }
   ],
   "source": [
    "train_df = pd.read_csv(f\"{DATA_PATH}/train.csv\")\n",
    "train_df.head()"
   ]
  },
  {
   "cell_type": "code",
   "execution_count": 4,
   "metadata": {},
   "outputs": [
    {
     "data": {
      "text/html": [
       "<div>\n",
       "<style scoped>\n",
       "    .dataframe tbody tr th:only-of-type {\n",
       "        vertical-align: middle;\n",
       "    }\n",
       "\n",
       "    .dataframe tbody tr th {\n",
       "        vertical-align: top;\n",
       "    }\n",
       "\n",
       "    .dataframe thead th {\n",
       "        text-align: right;\n",
       "    }\n",
       "</style>\n",
       "<table border=\"1\" class=\"dataframe\">\n",
       "  <thead>\n",
       "    <tr style=\"text-align: right;\">\n",
       "      <th></th>\n",
       "      <th>landmark_id</th>\n",
       "      <th>category_name</th>\n",
       "      <th>name</th>\n",
       "      <th>lat</th>\n",
       "      <th>lon</th>\n",
       "      <th>city</th>\n",
       "      <th>state</th>\n",
       "      <th>country</th>\n",
       "    </tr>\n",
       "  </thead>\n",
       "  <tbody>\n",
       "    <tr>\n",
       "      <th>0</th>\n",
       "      <td>0</td>\n",
       "      <td>Category:Happy_Valley_Racecourse</td>\n",
       "      <td>Natural Turf Soccer Pitch No. 5</td>\n",
       "      <td>22.272800</td>\n",
       "      <td>114.182000</td>\n",
       "      <td>Hong Kong Island</td>\n",
       "      <td>Hong Kong</td>\n",
       "      <td>China</td>\n",
       "    </tr>\n",
       "    <tr>\n",
       "      <th>1</th>\n",
       "      <td>1</td>\n",
       "      <td>Category:Luitpoldpark_in_Munich</td>\n",
       "      <td>NaN</td>\n",
       "      <td>48.171494</td>\n",
       "      <td>11.569674</td>\n",
       "      <td>Munich</td>\n",
       "      <td>Bavaria</td>\n",
       "      <td>Germany</td>\n",
       "    </tr>\n",
       "    <tr>\n",
       "      <th>2</th>\n",
       "      <td>3</td>\n",
       "      <td>Category:Tweed_Heads,_New_South_Wales</td>\n",
       "      <td>Ukerebagh Nature Reserve</td>\n",
       "      <td>-28.183300</td>\n",
       "      <td>153.550000</td>\n",
       "      <td>Tweed Heads</td>\n",
       "      <td>New South Wales</td>\n",
       "      <td>Australia</td>\n",
       "    </tr>\n",
       "    <tr>\n",
       "      <th>3</th>\n",
       "      <td>14</td>\n",
       "      <td>Category:Delacorte_Theater</td>\n",
       "      <td>Delacorte Theater</td>\n",
       "      <td>40.780100</td>\n",
       "      <td>-73.968767</td>\n",
       "      <td>New York</td>\n",
       "      <td>New York</td>\n",
       "      <td>United States</td>\n",
       "    </tr>\n",
       "    <tr>\n",
       "      <th>4</th>\n",
       "      <td>15</td>\n",
       "      <td>Category:Tremper_Mound_and_Earthworks</td>\n",
       "      <td>Tremper Mound</td>\n",
       "      <td>38.801300</td>\n",
       "      <td>-83.010600</td>\n",
       "      <td>NaN</td>\n",
       "      <td>Ohio</td>\n",
       "      <td>United States</td>\n",
       "    </tr>\n",
       "  </tbody>\n",
       "</table>\n",
       "</div>"
      ],
      "text/plain": [
       "   landmark_id                          category_name  \\\n",
       "0            0       Category:Happy_Valley_Racecourse   \n",
       "1            1        Category:Luitpoldpark_in_Munich   \n",
       "2            3  Category:Tweed_Heads,_New_South_Wales   \n",
       "3           14             Category:Delacorte_Theater   \n",
       "4           15  Category:Tremper_Mound_and_Earthworks   \n",
       "\n",
       "                              name        lat         lon              city  \\\n",
       "0  Natural Turf Soccer Pitch No. 5  22.272800  114.182000  Hong Kong Island   \n",
       "1                              NaN  48.171494   11.569674            Munich   \n",
       "2         Ukerebagh Nature Reserve -28.183300  153.550000       Tweed Heads   \n",
       "3                Delacorte Theater  40.780100  -73.968767          New York   \n",
       "4                    Tremper Mound  38.801300  -83.010600               NaN   \n",
       "\n",
       "             state        country  \n",
       "0        Hong Kong          China  \n",
       "1          Bavaria        Germany  \n",
       "2  New South Wales      Australia  \n",
       "3         New York  United States  \n",
       "4             Ohio  United States  "
      ]
     },
     "execution_count": 4,
     "metadata": {},
     "output_type": "execute_result"
    }
   ],
   "source": [
    "category_to_location_df = pd.read_csv(f\"{DATA_PATH}/category_to_location.csv\")\n",
    "category_to_location_df.rename(columns={'id': 'landmark_id'}, inplace=True)\n",
    "category_to_location_df.head()"
   ]
  },
  {
   "cell_type": "markdown",
   "metadata": {},
   "source": [
    "### Jointure des données"
   ]
  },
  {
   "cell_type": "markdown",
   "metadata": {},
   "source": [
    "On joint les lieux (ville, pays, ...) aux images"
   ]
  },
  {
   "cell_type": "code",
   "execution_count": 5,
   "metadata": {},
   "outputs": [
    {
     "data": {
      "text/html": [
       "<div>\n",
       "<style scoped>\n",
       "    .dataframe tbody tr th:only-of-type {\n",
       "        vertical-align: middle;\n",
       "    }\n",
       "\n",
       "    .dataframe tbody tr th {\n",
       "        vertical-align: top;\n",
       "    }\n",
       "\n",
       "    .dataframe thead th {\n",
       "        text-align: right;\n",
       "    }\n",
       "</style>\n",
       "<table border=\"1\" class=\"dataframe\">\n",
       "  <thead>\n",
       "    <tr style=\"text-align: right;\">\n",
       "      <th></th>\n",
       "      <th>id</th>\n",
       "      <th>url</th>\n",
       "      <th>landmark_id</th>\n",
       "      <th>category_name</th>\n",
       "      <th>name</th>\n",
       "      <th>lat</th>\n",
       "      <th>lon</th>\n",
       "      <th>city</th>\n",
       "      <th>state</th>\n",
       "      <th>country</th>\n",
       "    </tr>\n",
       "  </thead>\n",
       "  <tbody>\n",
       "    <tr>\n",
       "      <th>0</th>\n",
       "      <td>6e158a47eb2ca3f6</td>\n",
       "      <td>https://upload.wikimedia.org/wikipedia/commons...</td>\n",
       "      <td>142820</td>\n",
       "      <td>NaN</td>\n",
       "      <td>NaN</td>\n",
       "      <td>NaN</td>\n",
       "      <td>NaN</td>\n",
       "      <td>NaN</td>\n",
       "      <td>NaN</td>\n",
       "      <td>NaN</td>\n",
       "    </tr>\n",
       "    <tr>\n",
       "      <th>1</th>\n",
       "      <td>202cd79556f30760</td>\n",
       "      <td>http://upload.wikimedia.org/wikipedia/commons/...</td>\n",
       "      <td>104169</td>\n",
       "      <td>Category:Stirling_Castle</td>\n",
       "      <td>Stirling Castle</td>\n",
       "      <td>56.123889</td>\n",
       "      <td>-3.947778</td>\n",
       "      <td>Stirling</td>\n",
       "      <td>Scotland</td>\n",
       "      <td>United Kingdom</td>\n",
       "    </tr>\n",
       "    <tr>\n",
       "      <th>2</th>\n",
       "      <td>3ad87684c99c06e1</td>\n",
       "      <td>http://upload.wikimedia.org/wikipedia/commons/...</td>\n",
       "      <td>37914</td>\n",
       "      <td>NaN</td>\n",
       "      <td>NaN</td>\n",
       "      <td>NaN</td>\n",
       "      <td>NaN</td>\n",
       "      <td>NaN</td>\n",
       "      <td>NaN</td>\n",
       "      <td>NaN</td>\n",
       "    </tr>\n",
       "    <tr>\n",
       "      <th>3</th>\n",
       "      <td>e7f70e9c61e66af3</td>\n",
       "      <td>https://upload.wikimedia.org/wikipedia/commons...</td>\n",
       "      <td>102140</td>\n",
       "      <td>NaN</td>\n",
       "      <td>NaN</td>\n",
       "      <td>NaN</td>\n",
       "      <td>NaN</td>\n",
       "      <td>NaN</td>\n",
       "      <td>NaN</td>\n",
       "      <td>NaN</td>\n",
       "    </tr>\n",
       "    <tr>\n",
       "      <th>4</th>\n",
       "      <td>4072182eddd0100e</td>\n",
       "      <td>https://upload.wikimedia.org/wikipedia/commons...</td>\n",
       "      <td>2474</td>\n",
       "      <td>Category:River_Severn</td>\n",
       "      <td>Aylburton</td>\n",
       "      <td>51.685278</td>\n",
       "      <td>-2.543611</td>\n",
       "      <td>Forest of Dean</td>\n",
       "      <td>England</td>\n",
       "      <td>United Kingdom</td>\n",
       "    </tr>\n",
       "  </tbody>\n",
       "</table>\n",
       "</div>"
      ],
      "text/plain": [
       "                 id                                                url  \\\n",
       "0  6e158a47eb2ca3f6  https://upload.wikimedia.org/wikipedia/commons...   \n",
       "1  202cd79556f30760  http://upload.wikimedia.org/wikipedia/commons/...   \n",
       "2  3ad87684c99c06e1  http://upload.wikimedia.org/wikipedia/commons/...   \n",
       "3  e7f70e9c61e66af3  https://upload.wikimedia.org/wikipedia/commons...   \n",
       "4  4072182eddd0100e  https://upload.wikimedia.org/wikipedia/commons...   \n",
       "\n",
       "   landmark_id             category_name             name        lat  \\\n",
       "0       142820                       NaN              NaN        NaN   \n",
       "1       104169  Category:Stirling_Castle  Stirling Castle  56.123889   \n",
       "2        37914                       NaN              NaN        NaN   \n",
       "3       102140                       NaN              NaN        NaN   \n",
       "4         2474     Category:River_Severn        Aylburton  51.685278   \n",
       "\n",
       "        lon            city     state         country  \n",
       "0       NaN             NaN       NaN             NaN  \n",
       "1 -3.947778        Stirling  Scotland  United Kingdom  \n",
       "2       NaN             NaN       NaN             NaN  \n",
       "3       NaN             NaN       NaN             NaN  \n",
       "4 -2.543611  Forest of Dean   England  United Kingdom  "
      ]
     },
     "execution_count": 5,
     "metadata": {},
     "output_type": "execute_result"
    }
   ],
   "source": [
    "train_df = train_df.merge(category_to_location_df, left_on='landmark_id', right_on='landmark_id', how='left')\n",
    "train_df.head()"
   ]
  },
  {
   "cell_type": "code",
   "execution_count": 6,
   "metadata": {},
   "outputs": [
    {
     "name": "stdout",
     "output_type": "stream",
     "text": [
      "shape du dataset de base :  (4132914, 10)\n",
      "shape du dataset ne conservant que les lieux reconnus :  (1273626, 10)\n"
     ]
    },
    {
     "data": {
      "text/html": [
       "<div>\n",
       "<style scoped>\n",
       "    .dataframe tbody tr th:only-of-type {\n",
       "        vertical-align: middle;\n",
       "    }\n",
       "\n",
       "    .dataframe tbody tr th {\n",
       "        vertical-align: top;\n",
       "    }\n",
       "\n",
       "    .dataframe thead th {\n",
       "        text-align: right;\n",
       "    }\n",
       "</style>\n",
       "<table border=\"1\" class=\"dataframe\">\n",
       "  <thead>\n",
       "    <tr style=\"text-align: right;\">\n",
       "      <th></th>\n",
       "      <th>id</th>\n",
       "      <th>url</th>\n",
       "      <th>landmark_id</th>\n",
       "      <th>category_name</th>\n",
       "      <th>name</th>\n",
       "      <th>lat</th>\n",
       "      <th>lon</th>\n",
       "      <th>city</th>\n",
       "      <th>state</th>\n",
       "      <th>country</th>\n",
       "    </tr>\n",
       "  </thead>\n",
       "  <tbody>\n",
       "    <tr>\n",
       "      <th>1</th>\n",
       "      <td>202cd79556f30760</td>\n",
       "      <td>http://upload.wikimedia.org/wikipedia/commons/...</td>\n",
       "      <td>104169</td>\n",
       "      <td>Category:Stirling_Castle</td>\n",
       "      <td>Stirling Castle</td>\n",
       "      <td>56.123889</td>\n",
       "      <td>-3.947778</td>\n",
       "      <td>Stirling</td>\n",
       "      <td>Scotland</td>\n",
       "      <td>United Kingdom</td>\n",
       "    </tr>\n",
       "    <tr>\n",
       "      <th>4</th>\n",
       "      <td>4072182eddd0100e</td>\n",
       "      <td>https://upload.wikimedia.org/wikipedia/commons...</td>\n",
       "      <td>2474</td>\n",
       "      <td>Category:River_Severn</td>\n",
       "      <td>Aylburton</td>\n",
       "      <td>51.685278</td>\n",
       "      <td>-2.543611</td>\n",
       "      <td>Forest of Dean</td>\n",
       "      <td>England</td>\n",
       "      <td>United Kingdom</td>\n",
       "    </tr>\n",
       "    <tr>\n",
       "      <th>7</th>\n",
       "      <td>16d8aa057cdd01b9</td>\n",
       "      <td>http://upload.wikimedia.org/wikipedia/commons/...</td>\n",
       "      <td>25719</td>\n",
       "      <td>Category:Duomo_(Monza)</td>\n",
       "      <td>Monza Cathedral</td>\n",
       "      <td>45.583590</td>\n",
       "      <td>9.275670</td>\n",
       "      <td>Monza</td>\n",
       "      <td>Lombardy</td>\n",
       "      <td>Italy</td>\n",
       "    </tr>\n",
       "    <tr>\n",
       "      <th>12</th>\n",
       "      <td>88f3f71c2b71a6f9</td>\n",
       "      <td>https://upload.wikimedia.org/wikipedia/commons...</td>\n",
       "      <td>198623</td>\n",
       "      <td>Category:Newark_Castle,_Nottinghamshire</td>\n",
       "      <td>NaN</td>\n",
       "      <td>53.077500</td>\n",
       "      <td>-0.812415</td>\n",
       "      <td>Newark and Sherwood</td>\n",
       "      <td>England</td>\n",
       "      <td>United Kingdom</td>\n",
       "    </tr>\n",
       "    <tr>\n",
       "      <th>15</th>\n",
       "      <td>0851a257e5e872ef</td>\n",
       "      <td>https://upload.wikimedia.org/wikipedia/commons...</td>\n",
       "      <td>189446</td>\n",
       "      <td>Category:Castle_of_Peñíscola</td>\n",
       "      <td>Castillo de Peñiscola</td>\n",
       "      <td>40.358800</td>\n",
       "      <td>0.407926</td>\n",
       "      <td>Peníscola / Peñíscola</td>\n",
       "      <td>Valencian Community</td>\n",
       "      <td>Spain</td>\n",
       "    </tr>\n",
       "  </tbody>\n",
       "</table>\n",
       "</div>"
      ],
      "text/plain": [
       "                  id                                                url  \\\n",
       "1   202cd79556f30760  http://upload.wikimedia.org/wikipedia/commons/...   \n",
       "4   4072182eddd0100e  https://upload.wikimedia.org/wikipedia/commons...   \n",
       "7   16d8aa057cdd01b9  http://upload.wikimedia.org/wikipedia/commons/...   \n",
       "12  88f3f71c2b71a6f9  https://upload.wikimedia.org/wikipedia/commons...   \n",
       "15  0851a257e5e872ef  https://upload.wikimedia.org/wikipedia/commons...   \n",
       "\n",
       "    landmark_id                            category_name  \\\n",
       "1        104169                 Category:Stirling_Castle   \n",
       "4          2474                    Category:River_Severn   \n",
       "7         25719                   Category:Duomo_(Monza)   \n",
       "12       198623  Category:Newark_Castle,_Nottinghamshire   \n",
       "15       189446             Category:Castle_of_Peñíscola   \n",
       "\n",
       "                     name        lat       lon                   city  \\\n",
       "1         Stirling Castle  56.123889 -3.947778               Stirling   \n",
       "4               Aylburton  51.685278 -2.543611         Forest of Dean   \n",
       "7         Monza Cathedral  45.583590  9.275670                  Monza   \n",
       "12                    NaN  53.077500 -0.812415    Newark and Sherwood   \n",
       "15  Castillo de Peñiscola  40.358800  0.407926  Peníscola / Peñíscola   \n",
       "\n",
       "                  state         country  \n",
       "1              Scotland  United Kingdom  \n",
       "4               England  United Kingdom  \n",
       "7              Lombardy           Italy  \n",
       "12              England  United Kingdom  \n",
       "15  Valencian Community           Spain  "
      ]
     },
     "execution_count": 6,
     "metadata": {},
     "output_type": "execute_result"
    }
   ],
   "source": [
    "print('shape du dataset de base : ',train_df.shape)\n",
    "train_df.dropna(subset=['country'], inplace=True)\n",
    "print('shape du dataset ne conservant que les lieux reconnus : ',train_df.shape)\n",
    "train_df.head()"
   ]
  },
  {
   "cell_type": "markdown",
   "metadata": {},
   "source": [
    "Récupération des chemins des images"
   ]
  },
  {
   "cell_type": "code",
   "execution_count": 7,
   "metadata": {},
   "outputs": [
    {
     "data": {
      "text/plain": [
       "<module 'fetch_image' from 'c:\\\\Users\\\\lebre\\\\OneDrive\\\\Bureau\\\\Deep Learning\\\\projet_dl\\\\fetch_image.py'>"
      ]
     },
     "execution_count": 7,
     "metadata": {},
     "output_type": "execute_result"
    }
   ],
   "source": [
    "import importlib\n",
    "import fetch_image\n",
    "importlib.reload(fetch_image)"
   ]
  },
  {
   "cell_type": "code",
   "execution_count": 8,
   "metadata": {},
   "outputs": [],
   "source": [
    "\n",
    "chemin_images_dict = fetch_image.fetch_images(train_df['id'], dossier_base = DATA_IMAGES_PATH)"
   ]
  },
  {
   "cell_type": "markdown",
   "metadata": {},
   "source": [
    "Ajout des chemins au df train"
   ]
  },
  {
   "cell_type": "code",
   "execution_count": 9,
   "metadata": {},
   "outputs": [
    {
     "name": "stdout",
     "output_type": "stream",
     "text": [
      "shape du dataset ne conservant que les lieux reconnu :  (1273626, 11)\n",
      "shape du dataset ne conservant que les lieux reconnus et images trouvées dans les dossiers :  (15264, 11)\n"
     ]
    },
    {
     "data": {
      "text/html": [
       "<div>\n",
       "<style scoped>\n",
       "    .dataframe tbody tr th:only-of-type {\n",
       "        vertical-align: middle;\n",
       "    }\n",
       "\n",
       "    .dataframe tbody tr th {\n",
       "        vertical-align: top;\n",
       "    }\n",
       "\n",
       "    .dataframe thead th {\n",
       "        text-align: right;\n",
       "    }\n",
       "</style>\n",
       "<table border=\"1\" class=\"dataframe\">\n",
       "  <thead>\n",
       "    <tr style=\"text-align: right;\">\n",
       "      <th></th>\n",
       "      <th>id</th>\n",
       "      <th>url</th>\n",
       "      <th>landmark_id</th>\n",
       "      <th>category_name</th>\n",
       "      <th>name</th>\n",
       "      <th>lat</th>\n",
       "      <th>lon</th>\n",
       "      <th>city</th>\n",
       "      <th>state</th>\n",
       "      <th>country</th>\n",
       "      <th>image_path</th>\n",
       "    </tr>\n",
       "  </thead>\n",
       "  <tbody>\n",
       "    <tr>\n",
       "      <th>172</th>\n",
       "      <td>00c08b162f34f53f</td>\n",
       "      <td>https://upload.wikimedia.org/wikipedia/commons...</td>\n",
       "      <td>163404</td>\n",
       "      <td>Category:North_Norfolk_Railway</td>\n",
       "      <td>Weybourne Yard Frame</td>\n",
       "      <td>52.934500</td>\n",
       "      <td>1.154500</td>\n",
       "      <td>North Norfolk</td>\n",
       "      <td>England</td>\n",
       "      <td>United Kingdom</td>\n",
       "      <td>data/train/images/0/0/c/00c08b162f34f53f.jpg</td>\n",
       "    </tr>\n",
       "    <tr>\n",
       "      <th>682</th>\n",
       "      <td>0129308917af0393</td>\n",
       "      <td>https://upload.wikimedia.org/wikipedia/commons...</td>\n",
       "      <td>20823</td>\n",
       "      <td>Category:Westmoreland_County,_Pennsylvania</td>\n",
       "      <td>Dellview Court</td>\n",
       "      <td>40.310000</td>\n",
       "      <td>-79.470000</td>\n",
       "      <td>Unity Township</td>\n",
       "      <td>Pennsylvania</td>\n",
       "      <td>United States</td>\n",
       "      <td>data/train/images/0/1/2/0129308917af0393.jpg</td>\n",
       "    </tr>\n",
       "    <tr>\n",
       "      <th>710</th>\n",
       "      <td>00e5d77c905d94a6</td>\n",
       "      <td>https://upload.wikimedia.org/wikipedia/commons...</td>\n",
       "      <td>26066</td>\n",
       "      <td>Category:Santuário_de_Fátima</td>\n",
       "      <td>Basílica de Nossa Senhora do Rosário de Fátima</td>\n",
       "      <td>39.632427</td>\n",
       "      <td>-8.671538</td>\n",
       "      <td>Fátima</td>\n",
       "      <td>NaN</td>\n",
       "      <td>Portugal</td>\n",
       "      <td>data/train/images/0/0/e/00e5d77c905d94a6.jpg</td>\n",
       "    </tr>\n",
       "    <tr>\n",
       "      <th>1180</th>\n",
       "      <td>0270b8d88aca27c4</td>\n",
       "      <td>https://upload.wikimedia.org/wikipedia/commons...</td>\n",
       "      <td>181586</td>\n",
       "      <td>Category:HMCS_Haida_(G63)</td>\n",
       "      <td>HMCS Haida</td>\n",
       "      <td>43.275300</td>\n",
       "      <td>-79.855400</td>\n",
       "      <td>Hamilton</td>\n",
       "      <td>Ontario</td>\n",
       "      <td>Canada</td>\n",
       "      <td>data/train/images/0/2/7/0270b8d88aca27c4.jpg</td>\n",
       "    </tr>\n",
       "    <tr>\n",
       "      <th>1262</th>\n",
       "      <td>001cd787f1e9a803</td>\n",
       "      <td>https://upload.wikimedia.org/wikipedia/commons...</td>\n",
       "      <td>61937</td>\n",
       "      <td>Category:South_Horizons</td>\n",
       "      <td>HK Electric Co. Ltd. Operational HQ</td>\n",
       "      <td>22.243364</td>\n",
       "      <td>114.147564</td>\n",
       "      <td>Hong Kong Island</td>\n",
       "      <td>Hong Kong</td>\n",
       "      <td>China</td>\n",
       "      <td>data/train/images/0/0/1/001cd787f1e9a803.jpg</td>\n",
       "    </tr>\n",
       "  </tbody>\n",
       "</table>\n",
       "</div>"
      ],
      "text/plain": [
       "                    id                                                url  \\\n",
       "172   00c08b162f34f53f  https://upload.wikimedia.org/wikipedia/commons...   \n",
       "682   0129308917af0393  https://upload.wikimedia.org/wikipedia/commons...   \n",
       "710   00e5d77c905d94a6  https://upload.wikimedia.org/wikipedia/commons...   \n",
       "1180  0270b8d88aca27c4  https://upload.wikimedia.org/wikipedia/commons...   \n",
       "1262  001cd787f1e9a803  https://upload.wikimedia.org/wikipedia/commons...   \n",
       "\n",
       "      landmark_id                               category_name  \\\n",
       "172        163404              Category:North_Norfolk_Railway   \n",
       "682         20823  Category:Westmoreland_County,_Pennsylvania   \n",
       "710         26066                Category:Santuário_de_Fátima   \n",
       "1180       181586                   Category:HMCS_Haida_(G63)   \n",
       "1262        61937                     Category:South_Horizons   \n",
       "\n",
       "                                                name        lat         lon  \\\n",
       "172                             Weybourne Yard Frame  52.934500    1.154500   \n",
       "682                                   Dellview Court  40.310000  -79.470000   \n",
       "710   Basílica de Nossa Senhora do Rosário de Fátima  39.632427   -8.671538   \n",
       "1180                                      HMCS Haida  43.275300  -79.855400   \n",
       "1262             HK Electric Co. Ltd. Operational HQ  22.243364  114.147564   \n",
       "\n",
       "                  city         state         country  \\\n",
       "172      North Norfolk       England  United Kingdom   \n",
       "682     Unity Township  Pennsylvania   United States   \n",
       "710             Fátima           NaN        Portugal   \n",
       "1180          Hamilton       Ontario          Canada   \n",
       "1262  Hong Kong Island     Hong Kong           China   \n",
       "\n",
       "                                        image_path  \n",
       "172   data/train/images/0/0/c/00c08b162f34f53f.jpg  \n",
       "682   data/train/images/0/1/2/0129308917af0393.jpg  \n",
       "710   data/train/images/0/0/e/00e5d77c905d94a6.jpg  \n",
       "1180  data/train/images/0/2/7/0270b8d88aca27c4.jpg  \n",
       "1262  data/train/images/0/0/1/001cd787f1e9a803.jpg  "
      ]
     },
     "execution_count": 9,
     "metadata": {},
     "output_type": "execute_result"
    }
   ],
   "source": [
    "train_df['image_path'] = train_df['id'].map(chemin_images_dict)\n",
    "print('shape du dataset ne conservant que les lieux reconnu : ',train_df.shape)\n",
    "train_df.dropna(subset=['image_path'], inplace=True)\n",
    "print('shape du dataset ne conservant que les lieux reconnus et images trouvées dans les dossiers : ',train_df.shape)\n",
    "train_df.head()"
   ]
  },
  {
   "cell_type": "markdown",
   "metadata": {},
   "source": [
    "Export du dataframe obtenu"
   ]
  },
  {
   "cell_type": "code",
   "execution_count": 10,
   "metadata": {},
   "outputs": [],
   "source": [
    "train_df.to_csv(f'{DATA_RESULTS}/train_final.csv')"
   ]
  },
  {
   "cell_type": "markdown",
   "metadata": {},
   "source": [
    "### Transformation des images en tenseurs"
   ]
  },
  {
   "cell_type": "markdown",
   "metadata": {},
   "source": [
    "Importation du dataframe obtenu"
   ]
  },
  {
   "cell_type": "code",
   "execution_count": null,
   "metadata": {},
   "outputs": [],
   "source": [
    "train_df = pd.read_csv(f'{DATA_RESULTS}/train_final.csv')"
   ]
  },
  {
   "cell_type": "markdown",
   "metadata": {},
   "source": [
    "Transformation des images en tenseurs pytorch"
   ]
  },
  {
   "cell_type": "code",
   "execution_count": 12,
   "metadata": {},
   "outputs": [],
   "source": [
    "prepro = Preprocessing() # instance pour transformer les images en tenseurs pytorch"
   ]
  },
  {
   "cell_type": "markdown",
   "metadata": {},
   "source": [
    "Test sur une image"
   ]
  },
  {
   "cell_type": "code",
   "execution_count": 13,
   "metadata": {},
   "outputs": [
    {
     "data": {
      "text/plain": [
       "tensor([[[[ 1.4269,  1.4954,  1.6153,  ..., -1.4158, -1.3815, -1.4158],\n",
       "          [ 1.5297,  1.5639,  1.6495,  ..., -1.4329, -1.4329, -1.4672],\n",
       "          [ 1.7009,  1.7352,  1.7694,  ..., -1.4329, -1.4672, -1.5014],\n",
       "          ...,\n",
       "          [ 1.7523,  1.7523,  1.7523,  ..., -1.1932, -1.2274, -1.2274],\n",
       "          [ 1.7694,  1.7694,  1.7865,  ..., -1.1760, -1.2959, -1.2445],\n",
       "          [ 1.7180,  1.7523,  1.8037,  ..., -0.8507, -1.2274, -1.2788]],\n",
       "\n",
       "         [[ 2.1310,  2.1134,  2.1660,  ..., -1.2304, -1.1954, -1.2304],\n",
       "          [ 2.1310,  2.1485,  2.1660,  ..., -1.2479, -1.2479, -1.2829],\n",
       "          [ 2.1660,  2.2010,  2.1835,  ..., -1.2479, -1.2829, -1.3179],\n",
       "          ...,\n",
       "          [ 1.9209,  1.9034,  1.9034,  ..., -1.2129, -1.2129, -1.1954],\n",
       "          [ 1.9384,  1.9384,  1.9559,  ..., -1.2129, -1.2654, -1.1954],\n",
       "          [ 1.8859,  1.9209,  1.9734,  ..., -0.8978, -1.2304, -1.2479]],\n",
       "\n",
       "         [[ 2.6051,  2.5877,  2.6051,  ..., -0.6715, -0.6367, -0.6715],\n",
       "          [ 2.6226,  2.6226,  2.6226,  ..., -0.6890, -0.6890, -0.7238],\n",
       "          [ 2.6226,  2.6226,  2.5877,  ..., -0.6890, -0.7238, -0.7587],\n",
       "          ...,\n",
       "          [ 2.0997,  2.0823,  2.0823,  ..., -1.1421, -1.1421, -1.1247],\n",
       "          [ 2.1171,  2.1171,  2.1346,  ..., -1.1421, -1.1596, -1.1073],\n",
       "          [ 2.0648,  2.0997,  2.1520,  ..., -0.8458, -1.1073, -1.1421]]]])"
      ]
     },
     "execution_count": 13,
     "metadata": {},
     "output_type": "execute_result"
    }
   ],
   "source": [
    "prepro.image_to_tensor('data/train/images/0/2/7/0270b8d88aca27c4.jpg')"
   ]
  },
  {
   "cell_type": "markdown",
   "metadata": {},
   "source": [
    "Empilement des tenseurs / target / mapping pour créer le dataset pytorch"
   ]
  },
  {
   "cell_type": "code",
   "execution_count": 14,
   "metadata": {},
   "outputs": [],
   "source": [
    "tensors, labels, label_mapping = prepro.store_image_tensors(train_df, image_path_column='image_path', label_column='country', batch_size=None)\n",
    "\n",
    "# print('label_mapping : ', label_mapping)\n",
    "# print('labels : ', labels)\n",
    "# print('tensors : ', tensors)\n"
   ]
  },
  {
   "cell_type": "markdown",
   "metadata": {},
   "source": [
    "Sauvegarde des labels de pays en json"
   ]
  },
  {
   "cell_type": "code",
   "execution_count": null,
   "metadata": {},
   "outputs": [],
   "source": [
    "with open(f\"{DATA_RESULTS}/country_labels.json\", \"w\") as f:\n",
    "    json.dump(label_mapping, f)"
   ]
  },
  {
   "cell_type": "markdown",
   "metadata": {},
   "source": [
    "Creation du dataset pytorch"
   ]
  },
  {
   "cell_type": "code",
   "execution_count": 19,
   "metadata": {},
   "outputs": [],
   "source": [
    "dataset = TensorDataset(tensors, labels)\n",
    "torch.save(dataset, f\"{DATA_RESULTS}/train_subset.pt\") # sauvegarde du dataset\n",
    "#dataset = torch.load(f\"{DATA_RESULTS}/train_subset.pt\", weights_only=False)"
   ]
  },
  {
   "cell_type": "code",
   "execution_count": 20,
   "metadata": {},
   "outputs": [],
   "source": [
    "dataloader = DataLoader(dataset, batch_size=32, shuffle=True)"
   ]
  },
  {
   "cell_type": "markdown",
   "metadata": {},
   "source": [
    "Observons la 1ere image puis le batch entier"
   ]
  },
  {
   "cell_type": "code",
   "execution_count": 21,
   "metadata": {},
   "outputs": [
    {
     "name": "stdout",
     "output_type": "stream",
     "text": [
      "Forme de l'image: torch.Size([1, 3, 224, 224])\n",
      "Étiquette: 80\n"
     ]
    }
   ],
   "source": [
    "image, label = dataset[0]\n",
    "print(f\"Forme de l'image: {image.shape}\")\n",
    "print(f\"Étiquette: {label.item()}\")"
   ]
  },
  {
   "cell_type": "code",
   "execution_count": 22,
   "metadata": {},
   "outputs": [
    {
     "name": "stdout",
     "output_type": "stream",
     "text": [
      "shape du batch d'images: torch.Size([32, 1, 3, 224, 224])\n",
      "shape du batch de labels : torch.Size([32])\n",
      "labels dans ce batch: [27, 27, 81, 33, 81, 81, 13, 27, 27, 57, 3, 13, 3, 81, 25, 81, 48, 25, 1, 81, 70, 80, 48, 77, 25, 57, 80, 29, 25, 81, 68, 80]\n",
      "distribution des labels: Counter({81: 7, 27: 4, 25: 4, 80: 3, 13: 2, 57: 2, 3: 2, 48: 2, 33: 1, 1: 1, 70: 1, 77: 1, 29: 1, 68: 1})\n",
      "shape du batch d'images: torch.Size([32, 1, 3, 224, 224])\n",
      "shape du batch de labels : torch.Size([32])\n",
      "labels dans ce batch: [43, 68, 27, 80, 15, 80, 34, 56, 29, 81, 27, 25, 33, 68, 81, 71, 27, 3, 19, 20, 68, 22, 6, 81, 81, 25, 9, 34, 81, 25, 25, 81]\n",
      "distribution des labels: Counter({81: 6, 25: 4, 68: 3, 27: 3, 80: 2, 34: 2, 43: 1, 15: 1, 56: 1, 29: 1, 33: 1, 71: 1, 3: 1, 19: 1, 20: 1, 22: 1, 6: 1, 9: 1})\n",
      "shape du batch d'images: torch.Size([32, 1, 3, 224, 224])\n",
      "shape du batch de labels : torch.Size([32])\n",
      "labels dans ce batch: [58, 71, 72, 19, 0, 50, 27, 31, 25, 13, 53, 33, 25, 13, 21, 27, 81, 80, 68, 80, 25, 34, 73, 33, 25, 81, 33, 60, 81, 80, 33, 15]\n",
      "distribution des labels: Counter({25: 4, 33: 4, 81: 3, 80: 3, 27: 2, 13: 2, 58: 1, 71: 1, 72: 1, 19: 1, 0: 1, 50: 1, 31: 1, 53: 1, 21: 1, 68: 1, 34: 1, 73: 1, 60: 1, 15: 1})\n",
      "shape du batch d'images: torch.Size([32, 1, 3, 224, 224])\n",
      "shape du batch de labels : torch.Size([32])\n",
      "labels dans ce batch: [68, 6, 25, 73, 56, 25, 9, 68, 25, 78, 33, 19, 26, 57, 34, 25, 33, 11, 61, 25, 80, 14, 13, 80, 70, 31, 61, 58, 57, 25, 62, 25]\n",
      "distribution des labels: Counter({25: 7, 68: 2, 33: 2, 57: 2, 61: 2, 80: 2, 6: 1, 73: 1, 56: 1, 9: 1, 78: 1, 19: 1, 26: 1, 34: 1, 11: 1, 14: 1, 13: 1, 70: 1, 31: 1, 58: 1, 62: 1})\n",
      "shape du batch d'images: torch.Size([32, 1, 3, 224, 224])\n",
      "shape du batch de labels : torch.Size([32])\n",
      "labels dans ce batch: [80, 19, 8, 81, 20, 80, 80, 33, 83, 29, 78, 81, 81, 13, 57, 57, 80, 60, 61, 81, 27, 57, 14, 81, 27, 29, 6, 81, 80, 27, 68, 76]\n",
      "distribution des labels: Counter({81: 6, 80: 5, 57: 3, 27: 3, 29: 2, 19: 1, 8: 1, 20: 1, 33: 1, 83: 1, 78: 1, 13: 1, 60: 1, 61: 1, 14: 1, 6: 1, 68: 1, 76: 1})\n",
      "shape du batch d'images: torch.Size([32, 1, 3, 224, 224])\n",
      "shape du batch de labels : torch.Size([32])\n",
      "labels dans ce batch: [61, 12, 81, 80, 19, 80, 80, 57, 27, 33, 51, 2, 27, 81, 25, 15, 58, 57, 81, 33, 81, 27, 78, 57, 33, 14, 81, 33, 68, 81, 80, 46]\n",
      "distribution des labels: Counter({81: 6, 80: 4, 33: 4, 57: 3, 27: 3, 61: 1, 12: 1, 19: 1, 51: 1, 2: 1, 25: 1, 15: 1, 58: 1, 78: 1, 14: 1, 68: 1, 46: 1})\n",
      "shape du batch d'images: torch.Size([32, 1, 3, 224, 224])\n",
      "shape du batch de labels : torch.Size([32])\n",
      "labels dans ce batch: [81, 25, 70, 13, 15, 58, 25, 33, 27, 57, 61, 15, 71, 80, 81, 15, 33, 32, 81, 27, 27, 25, 81, 27, 19, 25, 81, 27, 2, 27, 27, 71]\n",
      "distribution des labels: Counter({27: 7, 81: 5, 25: 4, 15: 3, 33: 2, 71: 2, 70: 1, 13: 1, 58: 1, 57: 1, 61: 1, 80: 1, 32: 1, 19: 1, 2: 1})\n",
      "shape du batch d'images: torch.Size([32, 1, 3, 224, 224])\n",
      "shape du batch de labels : torch.Size([32])\n",
      "labels dans ce batch: [56, 27, 81, 19, 61, 80, 57, 1, 27, 25, 27, 71, 81, 57, 27, 78, 58, 27, 19, 25, 80, 81, 61, 15, 29, 81, 27, 64, 81, 25, 81, 3]\n",
      "distribution des labels: Counter({27: 6, 81: 6, 25: 3, 19: 2, 61: 2, 80: 2, 57: 2, 56: 1, 1: 1, 71: 1, 78: 1, 58: 1, 15: 1, 29: 1, 64: 1, 3: 1})\n",
      "shape du batch d'images: torch.Size([32, 1, 3, 224, 224])\n",
      "shape du batch de labels : torch.Size([32])\n",
      "labels dans ce batch: [15, 31, 57, 57, 80, 81, 70, 26, 34, 81, 35, 70, 43, 25, 61, 70, 60, 2, 63, 57, 35, 80, 81, 61, 29, 75, 54, 31, 62, 27, 29, 61]\n",
      "distribution des labels: Counter({57: 3, 81: 3, 70: 3, 61: 3, 31: 2, 80: 2, 35: 2, 29: 2, 15: 1, 26: 1, 34: 1, 43: 1, 25: 1, 60: 1, 2: 1, 63: 1, 75: 1, 54: 1, 62: 1, 27: 1})\n",
      "shape du batch d'images: torch.Size([32, 1, 3, 224, 224])\n",
      "shape du batch de labels : torch.Size([32])\n",
      "labels dans ce batch: [68, 38, 26, 17, 25, 33, 37, 33, 25, 43, 1, 80, 27, 70, 25, 48, 34, 80, 33, 80, 74, 80, 29, 81, 15, 25, 68, 33, 33, 70, 8, 25]\n",
      "distribution des labels: Counter({25: 5, 33: 5, 80: 4, 68: 2, 70: 2, 38: 1, 26: 1, 17: 1, 37: 1, 43: 1, 1: 1, 27: 1, 48: 1, 34: 1, 74: 1, 29: 1, 81: 1, 15: 1, 8: 1})\n",
      "shape du batch d'images: torch.Size([32, 1, 3, 224, 224])\n",
      "shape du batch de labels : torch.Size([32])\n",
      "labels dans ce batch: [68, 27, 80, 78, 31, 81, 33, 81, 25, 81, 80, 68, 29, 81, 27, 80, 70, 57, 81, 27, 64, 27, 33, 32, 61, 16, 80, 80, 61, 74, 25, 81]\n",
      "distribution des labels: Counter({81: 6, 80: 5, 27: 4, 68: 2, 33: 2, 25: 2, 61: 2, 78: 1, 31: 1, 29: 1, 70: 1, 57: 1, 64: 1, 32: 1, 16: 1, 74: 1})\n",
      "shape du batch d'images: torch.Size([32, 1, 3, 224, 224])\n",
      "shape du batch de labels : torch.Size([32])\n",
      "labels dans ce batch: [9, 81, 57, 33, 27, 71, 81, 3, 16, 27, 81, 27, 3, 3, 27, 33, 81, 2, 2, 19, 70, 68, 24, 68, 27, 57, 57, 81, 33, 27, 49, 57]\n",
      "distribution des labels: Counter({27: 6, 81: 5, 57: 4, 33: 3, 3: 3, 2: 2, 68: 2, 9: 1, 71: 1, 16: 1, 19: 1, 70: 1, 24: 1, 49: 1})\n",
      "shape du batch d'images: torch.Size([32, 1, 3, 224, 224])\n",
      "shape du batch de labels : torch.Size([32])\n",
      "labels dans ce batch: [19, 80, 25, 27, 48, 25, 3, 27, 27, 81, 19, 81, 19, 33, 33, 32, 19, 19, 36, 74, 34, 19, 68, 10, 48, 13, 27, 79, 80, 70, 44, 33]\n",
      "distribution des labels: Counter({19: 6, 27: 4, 33: 3, 80: 2, 25: 2, 48: 2, 81: 2, 3: 1, 32: 1, 36: 1, 74: 1, 34: 1, 68: 1, 10: 1, 13: 1, 79: 1, 70: 1, 44: 1})\n",
      "shape du batch d'images: torch.Size([32, 1, 3, 224, 224])\n",
      "shape du batch de labels : torch.Size([32])\n",
      "labels dans ce batch: [80, 48, 70, 62, 33, 27, 30, 34, 81, 81, 65, 48, 19, 27, 80, 27, 19, 81, 33, 9, 48, 81, 7, 80, 15, 57, 68, 81, 81, 27, 66, 82]\n",
      "distribution des labels: Counter({81: 6, 27: 4, 80: 3, 48: 3, 33: 2, 19: 2, 70: 1, 62: 1, 30: 1, 34: 1, 65: 1, 9: 1, 7: 1, 15: 1, 57: 1, 68: 1, 66: 1, 82: 1})\n",
      "shape du batch d'images: torch.Size([32, 1, 3, 224, 224])\n",
      "shape du batch de labels : torch.Size([32])\n",
      "labels dans ce batch: [3, 27, 80, 81, 25, 33, 71, 9, 33, 25, 25, 13, 38, 57, 1, 19, 25, 62, 3, 28, 6, 13, 57, 68, 48, 27, 34, 19, 25, 81, 58, 29]\n",
      "distribution des labels: Counter({25: 5, 3: 2, 27: 2, 81: 2, 33: 2, 13: 2, 57: 2, 19: 2, 80: 1, 71: 1, 9: 1, 38: 1, 1: 1, 62: 1, 28: 1, 6: 1, 68: 1, 48: 1, 34: 1, 58: 1, 29: 1})\n",
      "shape du batch d'images: torch.Size([32, 1, 3, 224, 224])\n",
      "shape du batch de labels : torch.Size([32])\n",
      "labels dans ce batch: [57, 27, 57, 27, 74, 0, 70, 74, 80, 68, 15, 15, 2, 25, 78, 15, 19, 27, 51, 47, 81, 62, 68, 29, 60, 81, 48, 27, 81, 4, 43, 81]\n",
      "distribution des labels: Counter({27: 4, 81: 4, 15: 3, 57: 2, 74: 2, 68: 2, 0: 1, 70: 1, 80: 1, 2: 1, 25: 1, 78: 1, 19: 1, 51: 1, 47: 1, 62: 1, 29: 1, 60: 1, 48: 1, 4: 1, 43: 1})\n",
      "shape du batch d'images: torch.Size([32, 1, 3, 224, 224])\n",
      "shape du batch de labels : torch.Size([32])\n",
      "labels dans ce batch: [81, 61, 13, 34, 80, 9, 81, 9, 68, 27, 39, 54, 27, 33, 81, 81, 51, 80, 68, 81, 19, 19, 0, 25, 81, 27, 31, 58, 9, 25, 3, 32]\n",
      "distribution des labels: Counter({81: 6, 9: 3, 27: 3, 80: 2, 68: 2, 19: 2, 25: 2, 61: 1, 13: 1, 34: 1, 39: 1, 54: 1, 33: 1, 51: 1, 0: 1, 31: 1, 58: 1, 3: 1, 32: 1})\n",
      "shape du batch d'images: torch.Size([32, 1, 3, 224, 224])\n",
      "shape du batch de labels : torch.Size([32])\n",
      "labels dans ce batch: [33, 27, 68, 81, 58, 30, 32, 80, 57, 8, 15, 69, 38, 81, 68, 33, 34, 57, 72, 15, 80, 81, 80, 58, 3, 18, 27, 34, 33, 80, 81, 80]\n",
      "distribution des labels: Counter({80: 5, 81: 4, 33: 3, 27: 2, 68: 2, 58: 2, 57: 2, 15: 2, 34: 2, 30: 1, 32: 1, 8: 1, 69: 1, 38: 1, 72: 1, 3: 1, 18: 1})\n",
      "shape du batch d'images: torch.Size([32, 1, 3, 224, 224])\n",
      "shape du batch de labels : torch.Size([32])\n",
      "labels dans ce batch: [25, 80, 3, 80, 33, 33, 2, 4, 27, 27, 68, 14, 27, 27, 32, 68, 59, 80, 27, 58, 20, 80, 81, 25, 0, 70, 5, 27, 27, 0, 48, 80]\n",
      "distribution des labels: Counter({27: 7, 80: 5, 25: 2, 33: 2, 68: 2, 0: 2, 3: 1, 2: 1, 4: 1, 14: 1, 32: 1, 59: 1, 58: 1, 20: 1, 81: 1, 70: 1, 5: 1, 48: 1})\n",
      "shape du batch d'images: torch.Size([32, 1, 3, 224, 224])\n",
      "shape du batch de labels : torch.Size([32])\n",
      "labels dans ce batch: [81, 57, 13, 25, 34, 61, 27, 5, 2, 81, 19, 13, 80, 57, 48, 80, 15, 27, 19, 27, 81, 45, 33, 81, 80, 25, 70, 25, 2, 81, 68, 3]\n",
      "distribution des labels: Counter({81: 5, 25: 3, 27: 3, 80: 3, 57: 2, 13: 2, 2: 2, 19: 2, 34: 1, 61: 1, 5: 1, 48: 1, 15: 1, 45: 1, 33: 1, 70: 1, 68: 1, 3: 1})\n",
      "shape du batch d'images: torch.Size([32, 1, 3, 224, 224])\n",
      "shape du batch de labels : torch.Size([32])\n",
      "labels dans ce batch: [33, 3, 80, 6, 81, 27, 6, 81, 81, 13, 19, 54, 52, 65, 13, 44, 81, 3, 25, 19, 27, 43, 2, 80, 57, 64, 57, 33, 19, 48, 57, 33]\n",
      "distribution des labels: Counter({81: 4, 33: 3, 19: 3, 57: 3, 3: 2, 80: 2, 6: 2, 27: 2, 13: 2, 54: 1, 52: 1, 65: 1, 44: 1, 25: 1, 43: 1, 2: 1, 64: 1, 48: 1})\n",
      "shape du batch d'images: torch.Size([32, 1, 3, 224, 224])\n",
      "shape du batch de labels : torch.Size([32])\n",
      "labels dans ce batch: [15, 23, 80, 81, 68, 27, 61, 27, 33, 58, 50, 15, 57, 80, 78, 81, 11, 81, 25, 48, 68, 80, 33, 27, 25, 29, 25, 80, 33, 25, 81, 0]\n",
      "distribution des labels: Counter({80: 4, 81: 4, 25: 4, 27: 3, 33: 3, 15: 2, 68: 2, 23: 1, 61: 1, 58: 1, 50: 1, 57: 1, 78: 1, 11: 1, 48: 1, 29: 1, 0: 1})\n",
      "shape du batch d'images: torch.Size([32, 1, 3, 224, 224])\n",
      "shape du batch de labels : torch.Size([32])\n",
      "labels dans ce batch: [3, 57, 78, 81, 5, 9, 58, 57, 27, 68, 26, 81, 19, 29, 43, 80, 81, 81, 25, 13, 28, 68, 29, 81, 80, 47, 25, 58, 32, 81, 2, 80]\n",
      "distribution des labels: Counter({81: 6, 80: 3, 57: 2, 58: 2, 68: 2, 29: 2, 25: 2, 3: 1, 78: 1, 5: 1, 9: 1, 27: 1, 26: 1, 19: 1, 43: 1, 13: 1, 28: 1, 47: 1, 32: 1, 2: 1})\n",
      "shape du batch d'images: torch.Size([32, 1, 3, 224, 224])\n",
      "shape du batch de labels : torch.Size([32])\n",
      "labels dans ce batch: [13, 10, 3, 27, 85, 62, 2, 40, 71, 29, 57, 58, 25, 0, 33, 68, 27, 71, 4, 81, 80, 27, 33, 1, 1, 2, 61, 27, 81, 27, 27, 38]\n",
      "distribution des labels: Counter({27: 6, 2: 2, 71: 2, 33: 2, 81: 2, 1: 2, 13: 1, 10: 1, 3: 1, 85: 1, 62: 1, 40: 1, 29: 1, 57: 1, 58: 1, 25: 1, 0: 1, 68: 1, 4: 1, 80: 1, 61: 1, 38: 1})\n",
      "shape du batch d'images: torch.Size([32, 1, 3, 224, 224])\n",
      "shape du batch de labels : torch.Size([32])\n",
      "labels dans ce batch: [15, 81, 60, 33, 34, 37, 25, 81, 25, 48, 33, 25, 80, 19, 33, 58, 61, 80, 81, 80, 57, 27, 81, 13, 68, 80, 48, 51, 33, 68, 48, 80]\n",
      "distribution des labels: Counter({80: 5, 81: 4, 33: 4, 25: 3, 48: 3, 68: 2, 15: 1, 60: 1, 34: 1, 37: 1, 19: 1, 58: 1, 61: 1, 57: 1, 27: 1, 13: 1, 51: 1})\n",
      "shape du batch d'images: torch.Size([32, 1, 3, 224, 224])\n",
      "shape du batch de labels : torch.Size([32])\n",
      "labels dans ce batch: [70, 81, 81, 81, 33, 81, 15, 68, 80, 80, 81, 57, 29, 78, 80, 25, 81, 81, 25, 6, 3, 78, 70, 58, 81, 33, 61, 27, 19, 77, 27, 62]\n",
      "distribution des labels: Counter({81: 8, 80: 3, 70: 2, 33: 2, 78: 2, 25: 2, 27: 2, 15: 1, 68: 1, 57: 1, 29: 1, 6: 1, 3: 1, 58: 1, 61: 1, 19: 1, 77: 1, 62: 1})\n",
      "shape du batch d'images: torch.Size([32, 1, 3, 224, 224])\n",
      "shape du batch de labels : torch.Size([32])\n",
      "labels dans ce batch: [25, 38, 80, 61, 81, 19, 27, 31, 29, 61, 27, 27, 71, 44, 32, 57, 69, 25, 25, 26, 33, 29, 3, 15, 25, 3, 27, 27, 27, 81, 81, 57]\n",
      "distribution des labels: Counter({27: 6, 25: 4, 81: 3, 61: 2, 29: 2, 57: 2, 3: 2, 38: 1, 80: 1, 19: 1, 31: 1, 71: 1, 44: 1, 32: 1, 69: 1, 26: 1, 33: 1, 15: 1})\n",
      "shape du batch d'images: torch.Size([32, 1, 3, 224, 224])\n",
      "shape du batch de labels : torch.Size([32])\n",
      "labels dans ce batch: [69, 33, 25, 27, 19, 80, 80, 68, 25, 31, 27, 33, 80, 81, 6, 80, 29, 27, 33, 80, 68, 84, 80, 80, 15, 33, 33, 16, 27, 27, 58, 27]\n",
      "distribution des labels: Counter({80: 7, 27: 6, 33: 5, 25: 2, 68: 2, 69: 1, 19: 1, 31: 1, 81: 1, 6: 1, 29: 1, 84: 1, 15: 1, 16: 1, 58: 1})\n",
      "shape du batch d'images: torch.Size([32, 1, 3, 224, 224])\n",
      "shape du batch de labels : torch.Size([32])\n",
      "labels dans ce batch: [33, 9, 27, 3, 48, 70, 81, 1, 80, 6, 34, 81, 25, 48, 27, 55, 68, 57, 61, 81, 58, 68, 15, 60, 22, 4, 29, 80, 61, 48, 41, 81]\n",
      "distribution des labels: Counter({81: 4, 48: 3, 27: 2, 80: 2, 68: 2, 61: 2, 33: 1, 9: 1, 3: 1, 70: 1, 1: 1, 6: 1, 34: 1, 25: 1, 55: 1, 57: 1, 58: 1, 15: 1, 60: 1, 22: 1, 4: 1, 29: 1, 41: 1})\n",
      "shape du batch d'images: torch.Size([32, 1, 3, 224, 224])\n",
      "shape du batch de labels : torch.Size([32])\n",
      "labels dans ce batch: [25, 34, 81, 25, 31, 9, 10, 81, 81, 84, 33, 27, 81, 27, 78, 27, 19, 70, 19, 11, 29, 3, 48, 57, 70, 70, 80, 57, 27, 57, 84, 3]\n",
      "distribution des labels: Counter({81: 4, 27: 4, 70: 3, 57: 3, 25: 2, 84: 2, 19: 2, 3: 2, 34: 1, 31: 1, 9: 1, 10: 1, 33: 1, 78: 1, 11: 1, 29: 1, 48: 1, 80: 1})\n",
      "shape du batch d'images: torch.Size([32, 1, 3, 224, 224])\n",
      "shape du batch de labels : torch.Size([32])\n",
      "labels dans ce batch: [81, 39, 67, 25, 66, 27, 81, 15, 33, 50, 13, 31, 25, 9, 80, 81, 17, 34, 25, 32, 25, 42, 13, 13, 81, 19, 77, 80, 6, 27, 2, 25]\n",
      "distribution des labels: Counter({25: 5, 81: 4, 13: 3, 27: 2, 80: 2, 39: 1, 67: 1, 66: 1, 15: 1, 33: 1, 50: 1, 31: 1, 9: 1, 17: 1, 34: 1, 32: 1, 42: 1, 19: 1, 77: 1, 6: 1, 2: 1})\n",
      "shape du batch d'images: torch.Size([8, 1, 3, 224, 224])\n",
      "shape du batch de labels : torch.Size([8])\n",
      "labels dans ce batch: [29, 61, 81, 67, 19, 3, 2, 27]\n",
      "distribution des labels: Counter({29: 1, 61: 1, 81: 1, 67: 1, 19: 1, 3: 1, 2: 1, 27: 1})\n"
     ]
    }
   ],
   "source": [
    "for batch_images, batch_labels in dataloader:\n",
    "    print(f\"shape du batch d'images: {batch_images.shape}\")\n",
    "    print(f\"shape du batch de labels : {batch_labels.shape}\")\n",
    "    print(f\"labels dans ce batch: {batch_labels.tolist()}\")\n",
    "    print(f\"distribution des labels: {Counter(batch_labels.tolist())}\")"
   ]
  }
 ],
 "metadata": {
  "kernelspec": {
   "display_name": ".venv",
   "language": "python",
   "name": "python3"
  },
  "language_info": {
   "codemirror_mode": {
    "name": "ipython",
    "version": 3
   },
   "file_extension": ".py",
   "mimetype": "text/x-python",
   "name": "python",
   "nbconvert_exporter": "python",
   "pygments_lexer": "ipython3",
   "version": "3.11.4"
  }
 },
 "nbformat": 4,
 "nbformat_minor": 2
}
