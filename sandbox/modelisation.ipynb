{
  "cells": [
    {
      "cell_type": "markdown",
      "metadata": {
        "id": "phuhM-MgWlwJ"
      },
      "source": [
        "## Projet Deep Learning : Reconnaissance d'images de pays\n",
        "## **Modelisation**\n",
        "\n",
        "#### Dataset:\n",
        "Google Landmarks Dataset v2 :\n",
        "https://github.com/cvdfoundation/google-landmark?tab=readme-ov-file\n",
        "\n",
        "\n",
        "#### Objectif du projet :\n",
        "<p style=\"text-align: justify;\">\n",
        "    L'objectif de ce projet est de développer une solution de Deep Learning pour la reconnaissance d'images. L'input sera une image d'un lieu, et la sortie du modèle sera le pays correspondant, accompagnée de probabilités d'appartenance.\n",
        "</p>\n"
      ]
    },
    {
      "cell_type": "code",
      "execution_count": 26,
      "metadata": {
        "id": "okymx1CNWlwM"
      },
      "outputs": [],
      "source": [
        "from datetime import datetime\n",
        "import json\n",
        "import pandas as pd\n",
        "import torch\n",
        "import torch.nn as nn\n",
        "import torch.optim as optim\n",
        "from torch.utils.data import DataLoader, random_split\n",
        "from torchvision import models\n",
        "import matplotlib.pyplot as plt\n",
        "from sklearn.metrics import classification_report\n",
        "import gdown\n",
        "from tqdm import tqdm\n",
        "import os\n",
        "import torch\n",
        "import torch.nn as nn\n",
        "import torchvision.models as models"
      ]
    },
    {
      "cell_type": "code",
      "source": [
        "from google.colab import drive\n",
        "drive.mount('/content/drive')"
      ],
      "metadata": {
        "colab": {
          "base_uri": "https://localhost:8080/"
        },
        "id": "nqJPjRygyYG4",
        "outputId": "b2a19b2c-3a85-450f-a8d5-aa019dd096fa"
      },
      "execution_count": 27,
      "outputs": [
        {
          "output_type": "stream",
          "name": "stdout",
          "text": [
            "Drive already mounted at /content/drive; to attempt to forcibly remount, call drive.mount(\"/content/drive\", force_remount=True).\n"
          ]
        }
      ]
    },
    {
      "cell_type": "code",
      "source": [
        "import os\n",
        "work_dir = \"/content/drive/MyDrive/DEEP_LEARNING_PROJECT \"\n",
        "os.chdir(work_dir)\n",
        "print(\"Répertoire actuel :\", os.getcwd())"
      ],
      "metadata": {
        "colab": {
          "base_uri": "https://localhost:8080/"
        },
        "id": "rv6QHvyyzKh0",
        "outputId": "a218e3f1-b5c0-4403-d699-3a9648dda6ff"
      },
      "execution_count": 28,
      "outputs": [
        {
          "output_type": "stream",
          "name": "stdout",
          "text": [
            "Répertoire actuel : /content/drive/.shortcut-targets-by-id/1Q-Loa1KiyiFY6-6XhlJ-BKwovS1l8OK6/DEEP_LEARNING_PROJECT \n"
          ]
        }
      ]
    },
    {
      "cell_type": "code",
      "source": [
        "DATA_TRAIN_PATH = \"data\"\n",
        "DATA_RESULTS = \"data\"\n",
        "MODELS = \"models\"\n",
        "\n",
        "for path in [DATA_TRAIN_PATH, DATA_RESULTS, MODELS]:\n",
        "    full_path = os.path.join(work_dir, path)\n",
        "    if not os.path.exists(full_path):\n",
        "        raise FileNotFoundError(f\"Le dossier {full_path} n'existe pas. Crée-le ou vérifie le chemin.\")\n",
        "print(\"Tous les dossiers existent\")\n"
      ],
      "metadata": {
        "colab": {
          "base_uri": "https://localhost:8080/"
        },
        "id": "aiK06CICzZuj",
        "outputId": "9872198f-3008-4ee6-d969-510a0e9f3d6d"
      },
      "execution_count": 29,
      "outputs": [
        {
          "output_type": "stream",
          "name": "stdout",
          "text": [
            "Tous les dossiers existent\n"
          ]
        }
      ]
    },
    {
      "cell_type": "code",
      "source": [
        "!ls"
      ],
      "metadata": {
        "id": "Fd0OOPcWxnol",
        "outputId": "8c5316d6-61a4-4c51-dac3-5f66bb022446",
        "colab": {
          "base_uri": "https://localhost:8080/"
        }
      },
      "execution_count": 7,
      "outputs": [
        {
          "output_type": "stream",
          "name": "stdout",
          "text": [
            " data\t\t\t  models\t\t\t __pycache__\n",
            " download_dataset.ipynb   notebook_deepLearning.ipynb\t train_total_essaie.pt\n",
            " download-dataset.sh\t 'Notes sur le projet DL.gdoc'\n",
            " inference.ipynb\t  preprocessing.py\n"
          ]
        }
      ]
    },
    {
      "cell_type": "code",
      "source": [
        "print(\"GPU disponible :\", torch.cuda.is_available())"
      ],
      "metadata": {
        "colab": {
          "base_uri": "https://localhost:8080/"
        },
        "id": "qNiE7UA6XTgU",
        "outputId": "5918dc22-d561-45f9-9572-5f562ed4b6e1"
      },
      "execution_count": 8,
      "outputs": [
        {
          "output_type": "stream",
          "name": "stdout",
          "text": [
            "GPU disponible : True\n"
          ]
        }
      ]
    },
    {
      "cell_type": "markdown",
      "metadata": {
        "id": "YrAYYqMLWlwN"
      },
      "source": [
        "### Importation des datasets"
      ]
    },
    {
      "cell_type": "markdown",
      "metadata": {
        "id": "Jx7SQnijWlwO"
      },
      "source": [
        "Importation d'un subset"
      ]
    },
    {
      "cell_type": "code",
      "source": [
        "DATA_TRAIN_PATH"
      ],
      "metadata": {
        "colab": {
          "base_uri": "https://localhost:8080/",
          "height": 36
        },
        "id": "YzFAapiF56ez",
        "outputId": "41e062c8-1e76-4322-bb35-19e1ba251563"
      },
      "execution_count": 30,
      "outputs": [
        {
          "output_type": "execute_result",
          "data": {
            "text/plain": [
              "'data'"
            ],
            "application/vnd.google.colaboratory.intrinsic+json": {
              "type": "string"
            }
          },
          "metadata": {},
          "execution_count": 30
        }
      ]
    },
    {
      "cell_type": "code",
      "execution_count": 44,
      "metadata": {
        "id": "0gRxQjI2WlwO"
      },
      "outputs": [],
      "source": [
        "train_dataset = torch.load(f\"{DATA_TRAIN_PATH}/train_total_essaie.pt\", weights_only=False)"
      ]
    },
    {
      "cell_type": "code",
      "source": [
        "print(type(train_dataset))\n",
        "print(len(train_dataset))\n",
        "print(train_dataset[0])"
      ],
      "metadata": {
        "colab": {
          "base_uri": "https://localhost:8080/"
        },
        "id": "nbsHAxd8hN1h",
        "outputId": "69b9712d-993a-426b-ddf1-720feda42670"
      },
      "execution_count": 11,
      "outputs": [
        {
          "output_type": "stream",
          "name": "stdout",
          "text": [
            "<class 'torch.utils.data.dataset.TensorDataset'>\n",
            "100000\n",
            "(tensor([[[[ 0.5536,  0.5536,  0.5707,  ...,  1.7865,  1.8037,  1.8208],\n",
            "          [ 0.5193,  0.5193,  0.5364,  ...,  1.7865,  1.8037,  1.8208],\n",
            "          [ 0.5193,  0.5193,  0.5364,  ...,  1.8037,  1.8037,  1.8208],\n",
            "          ...,\n",
            "          [-0.0287,  0.0741, -0.0116,  ..., -0.3198, -0.3541, -0.4397],\n",
            "          [-0.0458,  0.0569,  0.0741,  ..., -0.4739, -0.4568, -0.3198],\n",
            "          [ 0.1254,  0.0912, -0.0287,  ..., -0.6794, -0.6452, -0.5938]],\n",
            "\n",
            "         [[ 0.7479,  0.7479,  0.7654,  ...,  1.9559,  1.9734,  1.9909],\n",
            "          [ 0.7129,  0.7129,  0.7304,  ...,  1.9559,  1.9734,  1.9909],\n",
            "          [ 0.7129,  0.7129,  0.7304,  ...,  1.9734,  1.9734,  1.9909],\n",
            "          ...,\n",
            "          [-0.0749,  0.0476, -0.0574,  ..., -0.3375, -0.3550, -0.4251],\n",
            "          [-0.1975, -0.0399,  0.0126,  ..., -0.5126, -0.4776, -0.3025],\n",
            "          [-0.0399, -0.0049, -0.1099,  ..., -0.7227, -0.6702, -0.5826]],\n",
            "\n",
            "         [[ 1.2631,  1.2457,  1.2457,  ...,  2.1694,  2.1868,  2.2043],\n",
            "          [ 1.2282,  1.2108,  1.2108,  ...,  2.1694,  2.1868,  2.2043],\n",
            "          [ 1.2282,  1.2108,  1.2108,  ...,  2.1868,  2.1868,  2.2043],\n",
            "          ...,\n",
            "          [-0.7064, -0.5495, -0.6018,  ..., -0.9330, -0.9853, -1.0376],\n",
            "          [-0.6367, -0.5321, -0.5147,  ..., -0.8807, -0.9156, -0.7587],\n",
            "          [-0.4275, -0.4624, -0.6193,  ..., -1.0376, -1.0201, -0.9678]]]]), tensor(163))\n"
          ]
        }
      ]
    },
    {
      "cell_type": "markdown",
      "metadata": {
        "id": "Ut6tVvdoWlwO"
      },
      "source": [
        "Import du labels mapping (etiquette pour chaque pays)"
      ]
    },
    {
      "cell_type": "code",
      "execution_count": 32,
      "metadata": {
        "id": "dU6Sz2UCWlwO"
      },
      "outputs": [],
      "source": [
        "with open(f\"{DATA_RESULTS}/country_labels_total_essaie.json\", \"r\") as f:\n",
        "    label_mapping = json.load(f)"
      ]
    },
    {
      "cell_type": "code",
      "source": [
        "label_mapping = {int(k): v for k, v in label_mapping.items()}"
      ],
      "metadata": {
        "id": "Ybzakw8N-bfm"
      },
      "execution_count": 33,
      "outputs": []
    },
    {
      "cell_type": "markdown",
      "metadata": {
        "id": "OmOSOd85WlwP"
      },
      "source": [
        "Train val test split"
      ]
    },
    {
      "cell_type": "code",
      "execution_count": 14,
      "metadata": {
        "id": "DkkVwqVFWlwP"
      },
      "outputs": [],
      "source": [
        "train_size = int(0.8 * len(train_dataset))\n",
        "val_size = int(0.1 * len(train_dataset))\n",
        "test_size = len(train_dataset) - train_size - val_size\n",
        "train_subset, val_subset, test_subset = random_split(train_dataset, [train_size, val_size, test_size])\n",
        "\n",
        "train_loader = DataLoader(train_subset, batch_size=32, shuffle=True)\n",
        "val_loader = DataLoader(val_subset, batch_size=32, shuffle=False)\n",
        "test_loader = DataLoader(test_subset, batch_size=32, shuffle=False)"
      ]
    },
    {
      "cell_type": "markdown",
      "metadata": {
        "id": "u7AglfVLWlwP"
      },
      "source": [
        "Récupération des labels du train"
      ]
    },
    {
      "cell_type": "code",
      "execution_count": 15,
      "metadata": {
        "id": "eI0BRaiCWlwP"
      },
      "outputs": [],
      "source": [
        "all_labels = []\n",
        "for _, labels in train_loader:\n",
        "    all_labels.extend(labels.numpy().tolist())"
      ]
    },
    {
      "cell_type": "code",
      "source": [
        "print(\"Nombre total d'images dans train_loader:\", len(all_labels))\n",
        "print(\"Exemple de labels:\", all_labels[:10])\n"
      ],
      "metadata": {
        "colab": {
          "base_uri": "https://localhost:8080/"
        },
        "id": "EkTLbuc18z0r",
        "outputId": "7af1888a-54de-426e-90a6-dd5d64a88329"
      },
      "execution_count": 16,
      "outputs": [
        {
          "output_type": "stream",
          "name": "stdout",
          "text": [
            "Nombre total d'images dans train_loader: 80000\n",
            "Exemple de labels: [107, 147, 58, 130, 131, 164, 128, 163, 56, 163]\n"
          ]
        }
      ]
    },
    {
      "cell_type": "code",
      "source": [
        "for images, labels in train_loader:\n",
        "    print(\"Batch de labels:\", labels.numpy())\n",
        "    break\n"
      ],
      "metadata": {
        "colab": {
          "base_uri": "https://localhost:8080/"
        },
        "id": "qQXJWDp883ov",
        "outputId": "0361786b-0fd7-411c-9e25-c6ab24d57a32"
      },
      "execution_count": 17,
      "outputs": [
        {
          "output_type": "stream",
          "name": "stdout",
          "text": [
            "Batch de labels: [163  14  70  56  56 130  77  61 163 163 127 147  60 128  40  10 164  77\n",
            " 144 163  56 163 130 110 109  29 163 151  58 154  58 164]\n"
          ]
        }
      ]
    },
    {
      "cell_type": "code",
      "source": [
        "from typing import Counter\n",
        "# pip install Counter"
      ],
      "metadata": {
        "id": "lL3BctJMPppT"
      },
      "execution_count": 18,
      "outputs": []
    },
    {
      "cell_type": "code",
      "source": [
        "label_counts = Counter(all_labels)\n",
        "df_label_counts = pd.DataFrame(list(label_counts.items()), columns=[\"Label\", \"Count\"])\n",
        "df_label_counts[\"Country\"] = df_label_counts[\"Label\"].map(label_mapping)\n",
        "df_label_counts = df_label_counts.sort_values(by=\"Count\", ascending=False)\n",
        "print(df_label_counts.head())\n"
      ],
      "metadata": {
        "colab": {
          "base_uri": "https://localhost:8080/"
        },
        "id": "ipB03a85-hUy",
        "outputId": "720abd38-5628-47bf-fa14-b93fe622a454"
      },
      "execution_count": 34,
      "outputs": [
        {
          "output_type": "stream",
          "name": "stdout",
          "text": [
            "    Label  Count         Country\n",
            "5     164   9763   United States\n",
            "7     163   8585  United Kingdom\n",
            "2      58   8275         Germany\n",
            "8      56   5848          France\n",
            "11     77   4511           Italy\n"
          ]
        }
      ]
    },
    {
      "cell_type": "code",
      "execution_count": 20,
      "metadata": {
        "id": "YzZXvPbRWlwP"
      },
      "outputs": [],
      "source": [
        "DEVICE = torch.device(\"cuda\" if torch.cuda.is_available() else \"cpu\")\n",
        "NUM_CLASSES = max(all_labels) + 1\n",
        "NUM_EPOCHS = 10\n",
        "LEARNING_RATE = 0.001"
      ]
    },
    {
      "cell_type": "markdown",
      "source": [
        "Modèle EfficientNet"
      ],
      "metadata": {
        "id": "Jgq30ao661fX"
      }
    },
    {
      "cell_type": "code",
      "source": [
        "import torch.nn as nn\n",
        "from torchvision import models\n",
        "\n",
        "class EfficientNetModel(nn.Module):\n",
        "    def __init__(self, num_classes):\n",
        "        super(EfficientNetModel, self).__init__()\n",
        "        self.efficientnet = models.efficientnet_b0(weights=models.EfficientNet_B0_Weights.IMAGENET1K_V1)\n",
        "        self.efficientnet.classifier[1] = nn.Linear(\n",
        "            self.efficientnet.classifier[1].in_features, num_classes\n",
        "        )\n",
        "\n",
        "    def forward(self, x):\n",
        "        batch_size, seq_len, channels, height, width = x.shape\n",
        "        x = x.squeeze(1)\n",
        "        return self.efficientnet(x)"
      ],
      "metadata": {
        "id": "KChq2bDw1GUf"
      },
      "execution_count": 21,
      "outputs": []
    },
    {
      "cell_type": "markdown",
      "metadata": {
        "id": "dHbrH9FnWlwQ"
      },
      "source": [
        "Initialisation du modèle, de la fonction de perte et de l'optimiseur"
      ]
    },
    {
      "cell_type": "code",
      "execution_count": null,
      "metadata": {
        "id": "MKa1JtpDWlwQ"
      },
      "outputs": [],
      "source": [
        "model_ef = EfficientNetModel(num_classes=NUM_CLASSES).to(DEVICE)\n",
        "criterion = nn.CrossEntropyLoss()\n",
        "optimizer_ef = optim.Adam(model_ef.parameters(), lr=LEARNING_RATE)"
      ]
    },
    {
      "cell_type": "markdown",
      "metadata": {
        "id": "JNYSSMmSWlwQ"
      },
      "source": [
        "Fonctions train, evaluate"
      ]
    },
    {
      "cell_type": "code",
      "execution_count": null,
      "metadata": {
        "id": "-1ett11UWlwQ"
      },
      "outputs": [],
      "source": [
        "def train_epoch(model, loader, criterion, optimizer, device):\n",
        "    model.train()\n",
        "    running_loss = 0.0\n",
        "    correct = 0\n",
        "    total = 0\n",
        "\n",
        "    for images, labels in tqdm(loader):\n",
        "        images = images.to(device)\n",
        "        labels = labels.to(device)\n",
        "\n",
        "        outputs = model(images)\n",
        "        loss = criterion(outputs, labels)\n",
        "\n",
        "        optimizer.zero_grad()\n",
        "        loss.backward()\n",
        "        optimizer.step()\n",
        "\n",
        "        running_loss += loss.item()\n",
        "        _, predicted = outputs.max(1)\n",
        "        total += labels.size(0)\n",
        "        correct += predicted.eq(labels).sum().item()\n",
        "\n",
        "    epoch_loss = running_loss / len(loader)\n",
        "    epoch_acc = correct / total\n",
        "    return epoch_loss, epoch_acc\n",
        "\n",
        "def evaluate(model, loader, criterion, device):\n",
        "    model.eval()\n",
        "    running_loss = 0.0\n",
        "    correct = 0\n",
        "    total = 0\n",
        "\n",
        "    with torch.no_grad():\n",
        "        for images, labels in loader:\n",
        "            images = images.to(device)\n",
        "            labels = labels.to(device)\n",
        "\n",
        "            outputs = model(images)\n",
        "            loss = criterion(outputs, labels)\n",
        "\n",
        "            running_loss += loss.item()\n",
        "            _, predicted = outputs.max(1)\n",
        "            total += labels.size(0)\n",
        "            correct += predicted.eq(labels).sum().item()\n",
        "\n",
        "    epoch_loss = running_loss / len(loader)\n",
        "    epoch_acc = correct / total\n",
        "    return epoch_loss, epoch_acc"
      ]
    },
    {
      "cell_type": "markdown",
      "metadata": {
        "id": "mMApj2-ZWlwQ"
      },
      "source": [
        "Entrainement\n"
      ]
    },
    {
      "cell_type": "code",
      "execution_count": null,
      "metadata": {
        "id": "y70ipHjsWlwQ",
        "outputId": "0cb59c0e-eee2-4ba0-d9e0-e1669348f5bb",
        "colab": {
          "base_uri": "https://localhost:8080/",
          "height": 1000
        }
      },
      "outputs": [
        {
          "output_type": "stream",
          "name": "stderr",
          "text": [
            "100%|██████████| 2500/2500 [02:10<00:00, 19.11it/s]\n"
          ]
        },
        {
          "output_type": "stream",
          "name": "stdout",
          "text": [
            "Epoch [1/10]\n",
            "Train Loss: 3.2164, Train Acc: 0.2119\n",
            "Val Loss: 3.0283, Val Acc: 0.2482\n"
          ]
        },
        {
          "output_type": "stream",
          "name": "stderr",
          "text": [
            "100%|██████████| 2500/2500 [02:08<00:00, 19.46it/s]\n"
          ]
        },
        {
          "output_type": "stream",
          "name": "stdout",
          "text": [
            "Epoch [2/10]\n",
            "Train Loss: 2.9534, Train Acc: 0.2616\n",
            "Val Loss: 2.9400, Val Acc: 0.2741\n"
          ]
        },
        {
          "output_type": "stream",
          "name": "stderr",
          "text": [
            "100%|██████████| 2500/2500 [02:07<00:00, 19.57it/s]\n"
          ]
        },
        {
          "output_type": "stream",
          "name": "stdout",
          "text": [
            "Epoch [3/10]\n",
            "Train Loss: 2.8013, Train Acc: 0.2893\n",
            "Val Loss: 2.8347, Val Acc: 0.2904\n"
          ]
        },
        {
          "output_type": "stream",
          "name": "stderr",
          "text": [
            "100%|██████████| 2500/2500 [02:08<00:00, 19.52it/s]\n"
          ]
        },
        {
          "output_type": "stream",
          "name": "stdout",
          "text": [
            "Epoch [4/10]\n",
            "Train Loss: 2.6636, Train Acc: 0.3186\n",
            "Val Loss: 2.8005, Val Acc: 0.3040\n"
          ]
        },
        {
          "output_type": "stream",
          "name": "stderr",
          "text": [
            "100%|██████████| 2500/2500 [02:08<00:00, 19.48it/s]\n"
          ]
        },
        {
          "output_type": "stream",
          "name": "stdout",
          "text": [
            "Epoch [5/10]\n",
            "Train Loss: 2.5155, Train Acc: 0.3462\n",
            "Val Loss: 2.8003, Val Acc: 0.3044\n"
          ]
        },
        {
          "output_type": "stream",
          "name": "stderr",
          "text": [
            "100%|██████████| 2500/2500 [02:07<00:00, 19.54it/s]\n"
          ]
        },
        {
          "output_type": "stream",
          "name": "stdout",
          "text": [
            "Epoch [6/10]\n",
            "Train Loss: 2.3707, Train Acc: 0.3759\n",
            "Val Loss: 2.8075, Val Acc: 0.3041\n"
          ]
        },
        {
          "output_type": "stream",
          "name": "stderr",
          "text": [
            "100%|██████████| 2500/2500 [02:08<00:00, 19.49it/s]\n"
          ]
        },
        {
          "output_type": "stream",
          "name": "stdout",
          "text": [
            "Epoch [7/10]\n",
            "Train Loss: 2.2077, Train Acc: 0.4087\n",
            "Val Loss: 2.8428, Val Acc: 0.3085\n"
          ]
        },
        {
          "output_type": "stream",
          "name": "stderr",
          "text": [
            "100%|██████████| 2500/2500 [02:08<00:00, 19.39it/s]\n"
          ]
        },
        {
          "output_type": "stream",
          "name": "stdout",
          "text": [
            "Epoch [8/10]\n",
            "Train Loss: 2.0420, Train Acc: 0.4460\n",
            "Val Loss: 2.9405, Val Acc: 0.3023\n"
          ]
        },
        {
          "output_type": "stream",
          "name": "stderr",
          "text": [
            "100%|██████████| 2500/2500 [02:08<00:00, 19.52it/s]\n"
          ]
        },
        {
          "output_type": "stream",
          "name": "stdout",
          "text": [
            "Epoch [9/10]\n",
            "Train Loss: 1.8632, Train Acc: 0.4855\n",
            "Val Loss: 3.0082, Val Acc: 0.2958\n"
          ]
        },
        {
          "output_type": "stream",
          "name": "stderr",
          "text": [
            "100%|██████████| 2500/2500 [02:07<00:00, 19.55it/s]\n"
          ]
        },
        {
          "output_type": "stream",
          "name": "stdout",
          "text": [
            "Epoch [10/10]\n",
            "Train Loss: 1.6887, Train Acc: 0.5253\n",
            "Val Loss: 3.1240, Val Acc: 0.2957\n"
          ]
        },
        {
          "output_type": "display_data",
          "data": {
            "text/plain": [
              "<Figure size 1200x500 with 2 Axes>"
            ],
            "image/png": "[encoded data removed]"
          },
          "metadata": {}
        }
      ],
      "source": [
        "train_losses = []\n",
        "train_accs = []\n",
        "val_losses = []\n",
        "val_accs = []\n",
        "\n",
        "for epoch in range(NUM_EPOCHS):\n",
        "    train_loss, train_acc = train_epoch(model_ef , train_loader, criterion, optimizer_ef, DEVICE)\n",
        "    train_losses.append(train_loss)\n",
        "    train_accs.append(train_acc)\n",
        "\n",
        "    val_loss, val_acc = evaluate(model_ef , val_loader, criterion, DEVICE)\n",
        "    val_losses.append(val_loss)\n",
        "    val_accs.append(val_acc)\n",
        "\n",
        "    print(f\"Epoch [{epoch+1}/{NUM_EPOCHS}]\")\n",
        "    print(f\"Train Loss: {train_loss:.4f}, Train Acc: {train_acc:.4f}\")\n",
        "    print(f\"Val Loss: {val_loss:.4f}, Val Acc: {val_acc:.4f}\")\n",
        "\n",
        "\n",
        "plt.figure(figsize=(12, 5))\n",
        "\n",
        "plt.subplot(1, 2, 1)\n",
        "plt.plot(train_losses, label='Train Loss')\n",
        "plt.plot(val_losses, label='Val Loss')\n",
        "plt.xlabel('Epoch')\n",
        "plt.ylabel('Loss')\n",
        "plt.legend()\n",
        "plt.title('Loss Evolution')\n",
        "\n",
        "plt.subplot(1, 2, 2)\n",
        "plt.plot(train_accs, label='Train Accuracy')\n",
        "plt.plot(val_accs, label='Val Accuracy')\n",
        "plt.xlabel('Epoch')\n",
        "plt.ylabel('Accuracy')\n",
        "plt.legend()\n",
        "plt.title('Accuracy Evolution')\n",
        "\n",
        "plt.tight_layout()\n",
        "plt.show()"
      ]
    },
    {
      "cell_type": "markdown",
      "metadata": {
        "id": "fnYIbnUTWlwR"
      },
      "source": [
        "Sauvegarde du modèle"
      ]
    },
    {
      "cell_type": "code",
      "execution_count": null,
      "metadata": {
        "id": "gsDpMD4kWlwR",
        "colab": {
          "base_uri": "https://localhost:8080/"
        },
        "outputId": "e6de7293-5c5c-46ef-f820-ac0436017ebe"
      },
      "outputs": [
        {
          "output_type": "stream",
          "name": "stdout",
          "text": [
            "Modèle sauvegardé sous : models/model_ef_model_2025-04-16_12-05-34.pth\n"
          ]
        }
      ],
      "source": [
        "time = datetime.now().strftime(\"%Y-%m-%d_%H-%M-%S\")\n",
        "name=\"model_ef\"\n",
        "\n",
        "torch.save(model_ef, f\"{MODELS}/{name}_model_{time}.pth\")\n",
        "print(f\"Modèle sauvegardé sous : {MODELS}/{name}_model_{time}.pth\")"
      ]
    },
    {
      "cell_type": "code",
      "source": [
        "def top_k_accuracy(output, target, k=5):\n",
        "    topk_preds = output.topk(k, dim=1).indices\n",
        "    correct = topk_preds.eq(target.view(-1, 1).expand_as(topk_preds))\n",
        "    return correct.any(dim=1).float().mean().item()\n"
      ],
      "metadata": {
        "id": "XN8Zb5smf_nQ"
      },
      "execution_count": null,
      "outputs": []
    },
    {
      "cell_type": "code",
      "execution_count": null,
      "metadata": {
        "id": "G8uV1sdmWlwR"
      },
      "outputs": [],
      "source": [
        "# #import du modele entrainé RESNET\n",
        "# model = ResNet50Model(num_classes=NUM_CLASSES).to(DEVICE)\n",
        "# checkpoint_path = f\"{MODELS}/resnet50_model_2025-03-09_14-49-57.pth\"\n",
        "# model.load_state_dict(torch.load(checkpoint_path, map_location=DEVICE))"
      ]
    },
    {
      "cell_type": "code",
      "source": [
        "# #import du modele entrainé efficientnet\n",
        "# model = EfficientNetModel(num_classes=NUM_CLASSES).to(DEVICE)\n",
        "\n",
        "# checkpoint_path = f\"{MODELS}/efficientnet_model_2025-03-09_14-55-06.pth\"\n",
        "# model.load_state_dict(torch.load(checkpoint_path, map_location=DEVICE))\n"
      ],
      "metadata": {
        "colab": {
          "base_uri": "https://localhost:8080/"
        },
        "id": "zyEESjFeZJYJ",
        "outputId": "3502e2f1-af9f-424b-bf25-c10f2f2a3943"
      },
      "execution_count": null,
      "outputs": [
        {
          "output_type": "stream",
          "name": "stderr",
          "text": [
            "<ipython-input-34-7a1cf08080e4>:5: FutureWarning: You are using `torch.load` with `weights_only=False` (the current default value), which uses the default pickle module implicitly. It is possible to construct malicious pickle data which will execute arbitrary code during unpickling (See https://github.com/pytorch/pytorch/blob/main/SECURITY.md#untrusted-models for more details). In a future release, the default value for `weights_only` will be flipped to `True`. This limits the functions that could be executed during unpickling. Arbitrary objects will no longer be allowed to be loaded via this mode unless they are explicitly allowlisted by the user via `torch.serialization.add_safe_globals`. We recommend you start setting `weights_only=True` for any use case where you don't have full control of the loaded file. Please open an issue on GitHub for any issues related to this experimental feature.\n",
            "  model.load_state_dict(torch.load(checkpoint_path, map_location=DEVICE))\n"
          ]
        },
        {
          "output_type": "execute_result",
          "data": {
            "text/plain": [
              "<All keys matched successfully>"
            ]
          },
          "metadata": {},
          "execution_count": 34
        }
      ]
    },
    {
      "cell_type": "markdown",
      "metadata": {
        "id": "J2_fE9xnWlwR"
      },
      "source": [
        "Evaluation des performances le dataset Test"
      ]
    },
    {
      "cell_type": "code",
      "execution_count": null,
      "metadata": {
        "id": "unlEheSeWlwR",
        "outputId": "a5698a64-61e4-4e7c-cc03-5f6420aaa33e",
        "colab": {
          "base_uri": "https://localhost:8080/"
        }
      },
      "outputs": [
        {
          "output_type": "stream",
          "name": "stdout",
          "text": [
            "Test Loss: 3.1387, Test Accuracy: 0.3000\n",
            "              precision    recall  f1-score   support\n",
            "\n",
            "           0       0.00      0.00      0.00         1\n",
            "           1       0.00      0.00      0.00         3\n",
            "           2       0.00      0.00      0.00         5\n",
            "           3       0.00      0.00      0.00         1\n",
            "           4       0.00      0.00      0.00         1\n",
            "           6       0.14      0.08      0.10        51\n",
            "           7       0.46      0.51      0.49        35\n",
            "           9       0.18      0.21      0.19       126\n",
            "          10       0.27      0.07      0.11       180\n",
            "          11       0.00      0.00      0.00         4\n",
            "          12       0.00      0.00      0.00         0\n",
            "          14       0.21      0.14      0.17        22\n",
            "          15       0.00      0.00      0.00         2\n",
            "          16       0.12      0.11      0.11        19\n",
            "          17       0.24      0.15      0.19        73\n",
            "          18       0.00      0.00      0.00         2\n",
            "          20       0.00      0.00      0.00        16\n",
            "          21       0.27      0.23      0.25        13\n",
            "          22       0.00      0.00      0.00         1\n",
            "          23       0.12      0.08      0.10       118\n",
            "          24       0.00      0.00      0.00         3\n",
            "          25       0.10      0.03      0.05        58\n",
            "          27       0.37      0.30      0.33        23\n",
            "          28       0.00      0.00      0.00         3\n",
            "          29       0.16      0.18      0.17       191\n",
            "          32       0.06      0.06      0.06        35\n",
            "          33       0.38      0.30      0.33       255\n",
            "          34       0.00      0.00      0.00        28\n",
            "          35       0.00      0.00      0.00         6\n",
            "          36       0.03      0.03      0.03        38\n",
            "          37       0.00      0.00      0.00         1\n",
            "          39       0.00      0.00      0.00         3\n",
            "          40       0.24      0.21      0.23       261\n",
            "          42       0.00      0.00      0.00         1\n",
            "          43       0.20      0.34      0.25        76\n",
            "          46       0.00      0.00      0.00         2\n",
            "          47       0.00      0.00      0.00         1\n",
            "          48       0.31      0.36      0.33        22\n",
            "          51       0.17      0.05      0.08        20\n",
            "          52       0.00      0.00      0.00         4\n",
            "          53       0.00      0.00      0.00         1\n",
            "          55       0.10      0.04      0.05        28\n",
            "          56       0.31      0.28      0.29       741\n",
            "          57       0.24      0.13      0.17        46\n",
            "          58       0.32      0.37      0.34      1036\n",
            "          60       0.00      0.00      0.00         5\n",
            "          61       0.11      0.03      0.05        58\n",
            "          62       0.00      0.00      0.00         1\n",
            "          63       0.00      0.00      0.00         3\n",
            "          65       0.00      0.00      0.00         1\n",
            "          67       0.00      0.00      0.00         1\n",
            "          68       0.00      0.00      0.00        46\n",
            "          69       0.00      0.00      0.00         2\n",
            "          70       0.31      0.23      0.26       147\n",
            "          71       0.29      0.14      0.19        29\n",
            "          72       0.33      0.14      0.20        14\n",
            "          73       0.00      0.00      0.00         1\n",
            "          74       0.32      0.12      0.17        50\n",
            "          75       0.00      0.00      0.00         0\n",
            "          76       0.18      0.21      0.20       179\n",
            "          77       0.28      0.47      0.35       539\n",
            "          78       0.36      0.34      0.35       276\n",
            "          79       0.00      0.00      0.00         2\n",
            "          80       0.11      0.06      0.08        16\n",
            "          81       0.00      0.00      0.00         3\n",
            "          82       0.00      0.00      0.00         3\n",
            "          84       0.00      0.00      0.00         2\n",
            "          85       0.00      0.00      0.00         1\n",
            "          86       0.00      0.00      0.00         4\n",
            "          87       0.00      0.00      0.00        18\n",
            "          88       0.00      0.00      0.00         5\n",
            "          90       0.29      0.07      0.11        29\n",
            "          91       0.33      0.09      0.14        11\n",
            "          92       0.14      0.33      0.20         3\n",
            "          93       0.00      0.00      0.00         1\n",
            "          94       0.00      0.00      0.00        20\n",
            "          95       0.00      0.00      0.00         1\n",
            "          96       0.33      0.18      0.24        11\n",
            "          98       0.00      0.00      0.00         1\n",
            "          99       0.23      0.10      0.14        62\n",
            "         100       0.00      0.00      0.00         4\n",
            "         101       0.00      0.00      0.00         1\n",
            "         102       1.00      0.50      0.67         2\n",
            "         103       0.00      0.00      0.00         8\n",
            "         104       0.50      0.08      0.13        13\n",
            "         105       0.00      0.00      0.00         1\n",
            "         106       0.80      0.50      0.62         8\n",
            "         107       0.00      0.00      0.00         6\n",
            "         108       0.00      0.00      0.00         9\n",
            "         109       0.54      0.46      0.50       254\n",
            "         110       0.12      0.10      0.11        29\n",
            "         111       0.00      0.00      0.00         1\n",
            "         114       0.00      0.00      0.00         4\n",
            "         115       0.08      0.09      0.09        32\n",
            "         117       0.25      0.02      0.04        48\n",
            "         118       0.00      0.00      0.00         1\n",
            "         119       0.00      0.00      0.00        11\n",
            "         120       0.00      0.00      0.00         1\n",
            "         121       0.00      0.00      0.00        10\n",
            "         122       0.00      0.00      0.00         6\n",
            "         123       0.00      0.00      0.00         1\n",
            "         124       0.30      0.11      0.16        28\n",
            "         125       0.16      0.16      0.16        25\n",
            "         126       0.00      0.00      0.00         1\n",
            "         127       0.25      0.16      0.19       366\n",
            "         128       0.10      0.10      0.10        94\n",
            "         129       0.00      0.00      0.00         3\n",
            "         130       0.40      0.03      0.06        64\n",
            "         131       0.41      0.38      0.40       297\n",
            "         132       1.00      0.50      0.67         2\n",
            "         133       0.00      0.00      0.00         1\n",
            "         134       0.00      0.00      0.00         1\n",
            "         136       0.00      0.00      0.00         1\n",
            "         137       0.00      0.00      0.00         3\n",
            "         138       0.14      0.08      0.10        50\n",
            "         140       0.29      0.06      0.10        32\n",
            "         141       0.10      0.08      0.09        53\n",
            "         142       0.00      0.00      0.00        16\n",
            "         143       0.00      0.00      0.00         1\n",
            "         144       0.00      0.00      0.00        33\n",
            "         145       0.00      0.00      0.00        24\n",
            "         147       0.18      0.16      0.17       366\n",
            "         148       0.00      0.00      0.00         5\n",
            "         151       0.28      0.29      0.29       171\n",
            "         152       0.22      0.10      0.14       135\n",
            "         153       0.00      0.00      0.00         9\n",
            "         154       0.40      0.11      0.17        18\n",
            "         155       0.00      0.00      0.00         5\n",
            "         156       0.49      0.44      0.47        68\n",
            "         157       0.00      0.00      0.00         4\n",
            "         158       0.00      0.00      0.00        22\n",
            "         159       0.17      0.05      0.08        38\n",
            "         160       0.00      0.00      0.00         2\n",
            "         161       0.09      0.08      0.09       110\n",
            "         162       0.04      0.07      0.05        14\n",
            "         163       0.44      0.49      0.47      1087\n",
            "         164       0.30      0.49      0.38      1271\n",
            "         165       0.00      0.00      0.00         2\n",
            "         166       0.00      0.00      0.00         3\n",
            "         167       0.00      0.00      0.00         3\n",
            "         168       0.00      0.00      0.00         5\n",
            "         169       0.00      0.00      0.00        16\n",
            "\n",
            "    accuracy                           0.30     10000\n",
            "   macro avg       0.12      0.09      0.10     10000\n",
            "weighted avg       0.29      0.30      0.28     10000\n",
            "\n"
          ]
        },
        {
          "output_type": "stream",
          "name": "stderr",
          "text": [
            "/usr/local/lib/python3.11/dist-packages/sklearn/metrics/_classification.py:1565: UndefinedMetricWarning: Precision is ill-defined and being set to 0.0 in labels with no predicted samples. Use `zero_division` parameter to control this behavior.\n",
            "  _warn_prf(average, modifier, f\"{metric.capitalize()} is\", len(result))\n",
            "/usr/local/lib/python3.11/dist-packages/sklearn/metrics/_classification.py:1565: UndefinedMetricWarning: Recall is ill-defined and being set to 0.0 in labels with no true samples. Use `zero_division` parameter to control this behavior.\n",
            "  _warn_prf(average, modifier, f\"{metric.capitalize()} is\", len(result))\n",
            "/usr/local/lib/python3.11/dist-packages/sklearn/metrics/_classification.py:1565: UndefinedMetricWarning: Precision is ill-defined and being set to 0.0 in labels with no predicted samples. Use `zero_division` parameter to control this behavior.\n",
            "  _warn_prf(average, modifier, f\"{metric.capitalize()} is\", len(result))\n",
            "/usr/local/lib/python3.11/dist-packages/sklearn/metrics/_classification.py:1565: UndefinedMetricWarning: Recall is ill-defined and being set to 0.0 in labels with no true samples. Use `zero_division` parameter to control this behavior.\n",
            "  _warn_prf(average, modifier, f\"{metric.capitalize()} is\", len(result))\n",
            "/usr/local/lib/python3.11/dist-packages/sklearn/metrics/_classification.py:1565: UndefinedMetricWarning: Precision is ill-defined and being set to 0.0 in labels with no predicted samples. Use `zero_division` parameter to control this behavior.\n",
            "  _warn_prf(average, modifier, f\"{metric.capitalize()} is\", len(result))\n",
            "/usr/local/lib/python3.11/dist-packages/sklearn/metrics/_classification.py:1565: UndefinedMetricWarning: Recall is ill-defined and being set to 0.0 in labels with no true samples. Use `zero_division` parameter to control this behavior.\n",
            "  _warn_prf(average, modifier, f\"{metric.capitalize()} is\", len(result))\n",
            "/usr/local/lib/python3.11/dist-packages/sklearn/metrics/_classification.py:1565: UndefinedMetricWarning: Precision is ill-defined and being set to 0.0 in labels with no predicted samples. Use `zero_division` parameter to control this behavior.\n",
            "  _warn_prf(average, modifier, f\"{metric.capitalize()} is\", len(result))\n",
            "/usr/local/lib/python3.11/dist-packages/sklearn/metrics/_classification.py:1565: UndefinedMetricWarning: Recall is ill-defined and being set to 0.0 in labels with no true samples. Use `zero_division` parameter to control this behavior.\n",
            "  _warn_prf(average, modifier, f\"{metric.capitalize()} is\", len(result))\n",
            "/usr/local/lib/python3.11/dist-packages/sklearn/metrics/_classification.py:1565: UndefinedMetricWarning: Precision is ill-defined and being set to 0.0 in labels with no predicted samples. Use `zero_division` parameter to control this behavior.\n",
            "  _warn_prf(average, modifier, f\"{metric.capitalize()} is\", len(result))\n",
            "/usr/local/lib/python3.11/dist-packages/sklearn/metrics/_classification.py:1565: UndefinedMetricWarning: Recall is ill-defined and being set to 0.0 in labels with no true samples. Use `zero_division` parameter to control this behavior.\n",
            "  _warn_prf(average, modifier, f\"{metric.capitalize()} is\", len(result))\n",
            "/usr/local/lib/python3.11/dist-packages/sklearn/metrics/_classification.py:1565: UndefinedMetricWarning: Precision is ill-defined and being set to 0.0 in labels with no predicted samples. Use `zero_division` parameter to control this behavior.\n",
            "  _warn_prf(average, modifier, f\"{metric.capitalize()} is\", len(result))\n",
            "/usr/local/lib/python3.11/dist-packages/sklearn/metrics/_classification.py:1565: UndefinedMetricWarning: Recall is ill-defined and being set to 0.0 in labels with no true samples. Use `zero_division` parameter to control this behavior.\n",
            "  _warn_prf(average, modifier, f\"{metric.capitalize()} is\", len(result))\n"
          ]
        }
      ],
      "source": [
        "test_loss, test_acc = evaluate(model_ef, test_loader, criterion, DEVICE)\n",
        "print(f\"Test Loss: {test_loss:.4f}, Test Accuracy: {test_acc:.4f}\")\n",
        "\n",
        "all_predictions = []\n",
        "all_true_labels = []\n",
        "\n",
        "model_ef.eval()\n",
        "with torch.no_grad():\n",
        "    for images, labels in test_loader:\n",
        "        images = images.to(DEVICE)\n",
        "        outputs = model_ef(images)\n",
        "        _, predicted = outputs.max(1)\n",
        "\n",
        "        all_predictions.extend(predicted.cpu().numpy())\n",
        "        all_true_labels.extend(labels.cpu().numpy())\n",
        "\n",
        "class_report_txt = classification_report(all_true_labels, all_predictions, output_dict=False)\n",
        "class_report_dict = classification_report(all_true_labels, all_predictions, output_dict=True)\n",
        "print(class_report_txt)"
      ]
    },
    {
      "cell_type": "code",
      "execution_count": null,
      "metadata": {
        "id": "o4AEFQYGWlwR",
        "outputId": "55d844e7-3d7c-4829-d66f-7499464a4635",
        "colab": {
          "base_uri": "https://localhost:8080/",
          "height": 424
        }
      },
      "outputs": [
        {
          "output_type": "execute_result",
          "data": {
            "text/plain": [
              "              precision    recall  f1-score  support country\n",
              "0              0.000000  0.000000  0.000000      1.0     NaN\n",
              "1              0.000000  0.000000  0.000000      3.0     NaN\n",
              "2              0.000000  0.000000  0.000000      5.0     NaN\n",
              "3              0.000000  0.000000  0.000000      1.0     NaN\n",
              "4              0.000000  0.000000  0.000000      1.0     NaN\n",
              "...                 ...       ...       ...      ...     ...\n",
              "168            0.000000  0.000000  0.000000      5.0     NaN\n",
              "169            0.000000  0.000000  0.000000     16.0     NaN\n",
              "accuracy       0.300000  0.300000  0.300000      0.3     NaN\n",
              "macro avg      0.124372  0.087959  0.095511  10000.0     NaN\n",
              "weighted avg   0.285630  0.300000  0.282095  10000.0     NaN\n",
              "\n",
              "[145 rows x 5 columns]"
            ],
            "text/html": [
              "\n",
              "  <div id=\"df-ce410a85-2fa6-4f50-bc7e-1649e055938b\" class=\"colab-df-container\">\n",
              "    <div>\n",
              "<style scoped>\n",
              "    .dataframe tbody tr th:only-of-type {\n",
              "        vertical-align: middle;\n",
              "    }\n",
              "\n",
              "    .dataframe tbody tr th {\n",
              "        vertical-align: top;\n",
              "    }\n",
              "\n",
              "    .dataframe thead th {\n",
              "        text-align: right;\n",
              "    }\n",
              "</style>\n",
              "<table border=\"1\" class=\"dataframe\">\n",
              "  <thead>\n",
              "    <tr style=\"text-align: right;\">\n",
              "      <th></th>\n",
              "      <th>precision</th>\n",
              "      <th>recall</th>\n",
              "      <th>f1-score</th>\n",
              "      <th>support</th>\n",
              "      <th>country</th>\n",
              "    </tr>\n",
              "  </thead>\n",
              "  <tbody>\n",
              "    <tr>\n",
              "      <th>0</th>\n",
              "      <td>0.000000</td>\n",
              "      <td>0.000000</td>\n",
              "      <td>0.000000</td>\n",
              "      <td>1.0</td>\n",
              "      <td>NaN</td>\n",
              "    </tr>\n",
              "    <tr>\n",
              "      <th>1</th>\n",
              "      <td>0.000000</td>\n",
              "      <td>0.000000</td>\n",
              "      <td>0.000000</td>\n",
              "      <td>3.0</td>\n",
              "      <td>NaN</td>\n",
              "    </tr>\n",
              "    <tr>\n",
              "      <th>2</th>\n",
              "      <td>0.000000</td>\n",
              "      <td>0.000000</td>\n",
              "      <td>0.000000</td>\n",
              "      <td>5.0</td>\n",
              "      <td>NaN</td>\n",
              "    </tr>\n",
              "    <tr>\n",
              "      <th>3</th>\n",
              "      <td>0.000000</td>\n",
              "      <td>0.000000</td>\n",
              "      <td>0.000000</td>\n",
              "      <td>1.0</td>\n",
              "      <td>NaN</td>\n",
              "    </tr>\n",
              "    <tr>\n",
              "      <th>4</th>\n",
              "      <td>0.000000</td>\n",
              "      <td>0.000000</td>\n",
              "      <td>0.000000</td>\n",
              "      <td>1.0</td>\n",
              "      <td>NaN</td>\n",
              "    </tr>\n",
              "    <tr>\n",
              "      <th>...</th>\n",
              "      <td>...</td>\n",
              "      <td>...</td>\n",
              "      <td>...</td>\n",
              "      <td>...</td>\n",
              "      <td>...</td>\n",
              "    </tr>\n",
              "    <tr>\n",
              "      <th>168</th>\n",
              "      <td>0.000000</td>\n",
              "      <td>0.000000</td>\n",
              "      <td>0.000000</td>\n",
              "      <td>5.0</td>\n",
              "      <td>NaN</td>\n",
              "    </tr>\n",
              "    <tr>\n",
              "      <th>169</th>\n",
              "      <td>0.000000</td>\n",
              "      <td>0.000000</td>\n",
              "      <td>0.000000</td>\n",
              "      <td>16.0</td>\n",
              "      <td>NaN</td>\n",
              "    </tr>\n",
              "    <tr>\n",
              "      <th>accuracy</th>\n",
              "      <td>0.300000</td>\n",
              "      <td>0.300000</td>\n",
              "      <td>0.300000</td>\n",
              "      <td>0.3</td>\n",
              "      <td>NaN</td>\n",
              "    </tr>\n",
              "    <tr>\n",
              "      <th>macro avg</th>\n",
              "      <td>0.124372</td>\n",
              "      <td>0.087959</td>\n",
              "      <td>0.095511</td>\n",
              "      <td>10000.0</td>\n",
              "      <td>NaN</td>\n",
              "    </tr>\n",
              "    <tr>\n",
              "      <th>weighted avg</th>\n",
              "      <td>0.285630</td>\n",
              "      <td>0.300000</td>\n",
              "      <td>0.282095</td>\n",
              "      <td>10000.0</td>\n",
              "      <td>NaN</td>\n",
              "    </tr>\n",
              "  </tbody>\n",
              "</table>\n",
              "<p>145 rows × 5 columns</p>\n",
              "</div>\n",
              "    <div class=\"colab-df-buttons\">\n",
              "\n",
              "  <div class=\"colab-df-container\">\n",
              "    <button class=\"colab-df-convert\" onclick=\"convertToInteractive('df-ce410a85-2fa6-4f50-bc7e-1649e055938b')\"\n",
              "            title=\"Convert this dataframe to an interactive table.\"\n",
              "            style=\"display:none;\">\n",
              "\n",
              "  <svg xmlns=\"http://www.w3.org/2000/svg\" height=\"24px\" viewBox=\"0 -960 960 960\">\n",
              "    <path d=\"M120-120v-720h720v720H120Zm60-500h600v-160H180v160Zm220 220h160v-160H400v160Zm0 220h160v-160H400v160ZM180-400h160v-160H180v160Zm440 0h160v-160H620v160ZM180-180h160v-160H180v160Zm440 0h160v-160H620v160Z\"/>\n",
              "  </svg>\n",
              "    </button>\n",
              "\n",
              "  <style>\n",
              "    .colab-df-container {\n",
              "      display:flex;\n",
              "      gap: 12px;\n",
              "    }\n",
              "\n",
              "    .colab-df-convert {\n",
              "      background-color: #E8F0FE;\n",
              "      border: none;\n",
              "      border-radius: 50%;\n",
              "      cursor: pointer;\n",
              "      display: none;\n",
              "      fill: #1967D2;\n",
              "      height: 32px;\n",
              "      padding: 0 0 0 0;\n",
              "      width: 32px;\n",
              "    }\n",
              "\n",
              "    .colab-df-convert:hover {\n",
              "      background-color: #E2EBFA;\n",
              "      box-shadow: 0px 1px 2px rgba(60, 64, 67, 0.3), 0px 1px 3px 1px rgba(60, 64, 67, 0.15);\n",
              "      fill: #174EA6;\n",
              "    }\n",
              "\n",
              "    .colab-df-buttons div {\n",
              "      margin-bottom: 4px;\n",
              "    }\n",
              "\n",
              "    [theme=dark] .colab-df-convert {\n",
              "      background-color: #3B4455;\n",
              "      fill: #D2E3FC;\n",
              "    }\n",
              "\n",
              "    [theme=dark] .colab-df-convert:hover {\n",
              "      background-color: #434B5C;\n",
              "      box-shadow: 0px 1px 3px 1px rgba(0, 0, 0, 0.15);\n",
              "      filter: drop-shadow(0px 1px 2px rgba(0, 0, 0, 0.3));\n",
              "      fill: #FFFFFF;\n",
              "    }\n",
              "  </style>\n",
              "\n",
              "    <script>\n",
              "      const buttonEl =\n",
              "        document.querySelector('#df-ce410a85-2fa6-4f50-bc7e-1649e055938b button.colab-df-convert');\n",
              "      buttonEl.style.display =\n",
              "        google.colab.kernel.accessAllowed ? 'block' : 'none';\n",
              "\n",
              "      async function convertToInteractive(key) {\n",
              "        const element = document.querySelector('#df-ce410a85-2fa6-4f50-bc7e-1649e055938b');\n",
              "        const dataTable =\n",
              "          await google.colab.kernel.invokeFunction('convertToInteractive',\n",
              "                                                    [key], {});\n",
              "        if (!dataTable) return;\n",
              "\n",
              "        const docLinkHtml = 'Like what you see? Visit the ' +\n",
              "          '<a target=\"_blank\" href=https://colab.research.google.com/notebooks/data_table.ipynb>data table notebook</a>'\n",
              "          + ' to learn more about interactive tables.';\n",
              "        element.innerHTML = '';\n",
              "        dataTable['output_type'] = 'display_data';\n",
              "        await google.colab.output.renderOutput(dataTable, element);\n",
              "        const docLink = document.createElement('div');\n",
              "        docLink.innerHTML = docLinkHtml;\n",
              "        element.appendChild(docLink);\n",
              "      }\n",
              "    </script>\n",
              "  </div>\n",
              "\n",
              "\n",
              "<div id=\"df-46558557-a1b5-479e-ace9-be32bbab0cee\">\n",
              "  <button class=\"colab-df-quickchart\" onclick=\"quickchart('df-46558557-a1b5-479e-ace9-be32bbab0cee')\"\n",
              "            title=\"Suggest charts\"\n",
              "            style=\"display:none;\">\n",
              "\n",
              "<svg xmlns=\"http://www.w3.org/2000/svg\" height=\"24px\"viewBox=\"0 0 24 24\"\n",
              "     width=\"24px\">\n",
              "    <g>\n",
              "        <path d=\"M19 3H5c-1.1 0-2 .9-2 2v14c0 1.1.9 2 2 2h14c1.1 0 2-.9 2-2V5c0-1.1-.9-2-2-2zM9 17H7v-7h2v7zm4 0h-2V7h2v10zm4 0h-2v-4h2v4z\"/>\n",
              "    </g>\n",
              "</svg>\n",
              "  </button>\n",
              "\n",
              "<style>\n",
              "  .colab-df-quickchart {\n",
              "      --bg-color: #E8F0FE;\n",
              "      --fill-color: #1967D2;\n",
              "      --hover-bg-color: #E2EBFA;\n",
              "      --hover-fill-color: #174EA6;\n",
              "      --disabled-fill-color: #AAA;\n",
              "      --disabled-bg-color: #DDD;\n",
              "  }\n",
              "\n",
              "  [theme=dark] .colab-df-quickchart {\n",
              "      --bg-color: #3B4455;\n",
              "      --fill-color: #D2E3FC;\n",
              "      --hover-bg-color: #434B5C;\n",
              "      --hover-fill-color: #FFFFFF;\n",
              "      --disabled-bg-color: #3B4455;\n",
              "      --disabled-fill-color: #666;\n",
              "  }\n",
              "\n",
              "  .colab-df-quickchart {\n",
              "    background-color: var(--bg-color);\n",
              "    border: none;\n",
              "    border-radius: 50%;\n",
              "    cursor: pointer;\n",
              "    display: none;\n",
              "    fill: var(--fill-color);\n",
              "    height: 32px;\n",
              "    padding: 0;\n",
              "    width: 32px;\n",
              "  }\n",
              "\n",
              "  .colab-df-quickchart:hover {\n",
              "    background-color: var(--hover-bg-color);\n",
              "    box-shadow: 0 1px 2px rgba(60, 64, 67, 0.3), 0 1px 3px 1px rgba(60, 64, 67, 0.15);\n",
              "    fill: var(--button-hover-fill-color);\n",
              "  }\n",
              "\n",
              "  .colab-df-quickchart-complete:disabled,\n",
              "  .colab-df-quickchart-complete:disabled:hover {\n",
              "    background-color: var(--disabled-bg-color);\n",
              "    fill: var(--disabled-fill-color);\n",
              "    box-shadow: none;\n",
              "  }\n",
              "\n",
              "  .colab-df-spinner {\n",
              "    border: 2px solid var(--fill-color);\n",
              "    border-color: transparent;\n",
              "    border-bottom-color: var(--fill-color);\n",
              "    animation:\n",
              "      spin 1s steps(1) infinite;\n",
              "  }\n",
              "\n",
              "  @keyframes spin {\n",
              "    0% {\n",
              "      border-color: transparent;\n",
              "      border-bottom-color: var(--fill-color);\n",
              "      border-left-color: var(--fill-color);\n",
              "    }\n",
              "    20% {\n",
              "      border-color: transparent;\n",
              "      border-left-color: var(--fill-color);\n",
              "      border-top-color: var(--fill-color);\n",
              "    }\n",
              "    30% {\n",
              "      border-color: transparent;\n",
              "      border-left-color: var(--fill-color);\n",
              "      border-top-color: var(--fill-color);\n",
              "      border-right-color: var(--fill-color);\n",
              "    }\n",
              "    40% {\n",
              "      border-color: transparent;\n",
              "      border-right-color: var(--fill-color);\n",
              "      border-top-color: var(--fill-color);\n",
              "    }\n",
              "    60% {\n",
              "      border-color: transparent;\n",
              "      border-right-color: var(--fill-color);\n",
              "    }\n",
              "    80% {\n",
              "      border-color: transparent;\n",
              "      border-right-color: var(--fill-color);\n",
              "      border-bottom-color: var(--fill-color);\n",
              "    }\n",
              "    90% {\n",
              "      border-color: transparent;\n",
              "      border-bottom-color: var(--fill-color);\n",
              "    }\n",
              "  }\n",
              "</style>\n",
              "\n",
              "  <script>\n",
              "    async function quickchart(key) {\n",
              "      const quickchartButtonEl =\n",
              "        document.querySelector('#' + key + ' button');\n",
              "      quickchartButtonEl.disabled = true;  // To prevent multiple clicks.\n",
              "      quickchartButtonEl.classList.add('colab-df-spinner');\n",
              "      try {\n",
              "        const charts = await google.colab.kernel.invokeFunction(\n",
              "            'suggestCharts', [key], {});\n",
              "      } catch (error) {\n",
              "        console.error('Error during call to suggestCharts:', error);\n",
              "      }\n",
              "      quickchartButtonEl.classList.remove('colab-df-spinner');\n",
              "      quickchartButtonEl.classList.add('colab-df-quickchart-complete');\n",
              "    }\n",
              "    (() => {\n",
              "      let quickchartButtonEl =\n",
              "        document.querySelector('#df-46558557-a1b5-479e-ace9-be32bbab0cee button');\n",
              "      quickchartButtonEl.style.display =\n",
              "        google.colab.kernel.accessAllowed ? 'block' : 'none';\n",
              "    })();\n",
              "  </script>\n",
              "</div>\n",
              "\n",
              "  <div id=\"id_b4bc6a09-35e3-46bc-82d2-65d739bb0da9\">\n",
              "    <style>\n",
              "      .colab-df-generate {\n",
              "        background-color: #E8F0FE;\n",
              "        border: none;\n",
              "        border-radius: 50%;\n",
              "        cursor: pointer;\n",
              "        display: none;\n",
              "        fill: #1967D2;\n",
              "        height: 32px;\n",
              "        padding: 0 0 0 0;\n",
              "        width: 32px;\n",
              "      }\n",
              "\n",
              "      .colab-df-generate:hover {\n",
              "        background-color: #E2EBFA;\n",
              "        box-shadow: 0px 1px 2px rgba(60, 64, 67, 0.3), 0px 1px 3px 1px rgba(60, 64, 67, 0.15);\n",
              "        fill: #174EA6;\n",
              "      }\n",
              "\n",
              "      [theme=dark] .colab-df-generate {\n",
              "        background-color: #3B4455;\n",
              "        fill: #D2E3FC;\n",
              "      }\n",
              "\n",
              "      [theme=dark] .colab-df-generate:hover {\n",
              "        background-color: #434B5C;\n",
              "        box-shadow: 0px 1px 3px 1px rgba(0, 0, 0, 0.15);\n",
              "        filter: drop-shadow(0px 1px 2px rgba(0, 0, 0, 0.3));\n",
              "        fill: #FFFFFF;\n",
              "      }\n",
              "    </style>\n",
              "    <button class=\"colab-df-generate\" onclick=\"generateWithVariable('df_report')\"\n",
              "            title=\"Generate code using this dataframe.\"\n",
              "            style=\"display:none;\">\n",
              "\n",
              "  <svg xmlns=\"http://www.w3.org/2000/svg\" height=\"24px\"viewBox=\"0 0 24 24\"\n",
              "       width=\"24px\">\n",
              "    <path d=\"M7,19H8.4L18.45,9,17,7.55,7,17.6ZM5,21V16.75L18.45,3.32a2,2,0,0,1,2.83,0l1.4,1.43a1.91,1.91,0,0,1,.58,1.4,1.91,1.91,0,0,1-.58,1.4L9.25,21ZM18.45,9,17,7.55Zm-12,3A5.31,5.31,0,0,0,4.9,8.1,5.31,5.31,0,0,0,1,6.5,5.31,5.31,0,0,0,4.9,4.9,5.31,5.31,0,0,0,6.5,1,5.31,5.31,0,0,0,8.1,4.9,5.31,5.31,0,0,0,12,6.5,5.46,5.46,0,0,0,6.5,12Z\"/>\n",
              "  </svg>\n",
              "    </button>\n",
              "    <script>\n",
              "      (() => {\n",
              "      const buttonEl =\n",
              "        document.querySelector('#id_b4bc6a09-35e3-46bc-82d2-65d739bb0da9 button.colab-df-generate');\n",
              "      buttonEl.style.display =\n",
              "        google.colab.kernel.accessAllowed ? 'block' : 'none';\n",
              "\n",
              "      buttonEl.onclick = () => {\n",
              "        google.colab.notebook.generateWithVariable('df_report');\n",
              "      }\n",
              "      })();\n",
              "    </script>\n",
              "  </div>\n",
              "\n",
              "    </div>\n",
              "  </div>\n"
            ],
            "application/vnd.google.colaboratory.intrinsic+json": {
              "type": "dataframe",
              "variable_name": "df_report",
              "repr_error": "Out of range float values are not JSON compliant: nan"
            }
          },
          "metadata": {},
          "execution_count": 26
        }
      ],
      "source": [
        "df_report = pd.DataFrame(class_report_dict).T\n",
        "df_report[\"country\"] = df_report.index\n",
        "df_report[\"country\"] = df_report[\"country\"].map(label_mapping)\n",
        "df_report"
      ]
    },
    {
      "cell_type": "markdown",
      "source": [
        "## Test d'amélioration ajout d'un Early-Stopping"
      ],
      "metadata": {
        "id": "rh5OZfmKCptB"
      }
    },
    {
      "cell_type": "code",
      "source": [
        "import torch\n",
        "import torch.nn as nn\n",
        "import torch.optim as optim\n",
        "from torchvision import models\n",
        "import matplotlib.pyplot as plt\n",
        "from tqdm import tqdm\n",
        "import copy\n",
        "\n",
        "class EfficientNetModel(nn.Module):\n",
        "    def __init__(self, num_classes):\n",
        "        super(EfficientNetModel, self).__init__()\n",
        "        self.efficientnet = models.efficientnet_b0(weights=models.EfficientNet_B0_Weights.IMAGENET1K_V1)\n",
        "        self.efficientnet.classifier[1] = nn.Linear(\n",
        "            self.efficientnet.classifier[1].in_features, num_classes\n",
        "        )\n",
        "\n",
        "    def forward(self, x):\n",
        "        x = x.squeeze(1)\n",
        "        return self.efficientnet(x)\n",
        "\n",
        "class EarlyStopping:\n",
        "    def __init__(self, patience=5, min_delta=0.001):\n",
        "        self.patience = patience\n",
        "        self.min_delta = min_delta\n",
        "        self.counter = 0\n",
        "        self.best_loss = None\n",
        "        self.early_stop = False\n",
        "        self.best_model_state = None\n",
        "\n",
        "    def __call__(self, val_loss, model):\n",
        "        if self.best_loss is None or val_loss < self.best_loss - self.min_delta:\n",
        "            self.best_loss = val_loss\n",
        "            self.counter = 0\n",
        "            self.best_model_state = copy.deepcopy(model.state_dict())\n",
        "        else:\n",
        "            self.counter += 1\n",
        "            if self.counter >= self.patience:\n",
        "                self.early_stop = True\n",
        "\n",
        "NUM_CLASSES = 172\n",
        "NUM_EPOCHS = 50\n",
        "LEARNING_RATE = 1e-4\n",
        "DEVICE = torch.device(\"cuda\" if torch.cuda.is_available() else \"cpu\")\n",
        "\n",
        "model_ef = EfficientNetModel(num_classes=NUM_CLASSES).to(DEVICE)\n",
        "criterion = nn.CrossEntropyLoss()\n",
        "optimizer_ef = optim.Adam(model_ef.parameters(), lr=LEARNING_RATE)\n",
        "early_stopper = EarlyStopping(patience=5)\n",
        "\n",
        "def train_epoch(model, loader, criterion, optimizer, device):\n",
        "    model.train()\n",
        "    running_loss, correct, total = 0.0, 0, 0\n",
        "\n",
        "    for images, labels in tqdm(loader):\n",
        "        images, labels = images.to(device), labels.to(device)\n",
        "        outputs = model(images)\n",
        "        loss = criterion(outputs, labels)\n",
        "\n",
        "        optimizer.zero_grad()\n",
        "        loss.backward()\n",
        "        optimizer.step()\n",
        "\n",
        "        running_loss += loss.item()\n",
        "        _, predicted = outputs.max(1)\n",
        "        correct += predicted.eq(labels).sum().item()\n",
        "        total += labels.size(0)\n",
        "\n",
        "    return running_loss / len(loader), correct / total\n",
        "\n",
        "def evaluate(model, loader, criterion, device):\n",
        "    model.eval()\n",
        "    running_loss, correct, total = 0.0, 0, 0\n",
        "\n",
        "    with torch.no_grad():\n",
        "        for images, labels in loader:\n",
        "            images, labels = images.to(device), labels.to(device)\n",
        "            outputs = model(images)\n",
        "            loss = criterion(outputs, labels)\n",
        "\n",
        "            running_loss += loss.item()\n",
        "            _, predicted = outputs.max(1)\n",
        "            correct += predicted.eq(labels).sum().item()\n",
        "            total += labels.size(0)\n",
        "\n",
        "    return running_loss / len(loader), correct / total\n",
        "\n",
        "train_losses, train_accs = [], []\n",
        "val_losses, val_accs = [], []\n",
        "\n",
        "for epoch in range(NUM_EPOCHS):\n",
        "    train_loss, train_acc = train_epoch(model_ef, train_loader, criterion, optimizer_ef, DEVICE)\n",
        "    val_loss, val_acc = evaluate(model_ef, val_loader, criterion, DEVICE)\n",
        "\n",
        "    train_losses.append(train_loss)\n",
        "    train_accs.append(train_acc)\n",
        "    val_losses.append(val_loss)\n",
        "    val_accs.append(val_acc)\n",
        "\n",
        "    print(f\"Epoch [{epoch+1}/{NUM_EPOCHS}]\")\n",
        "    print(f\"Train Loss: {train_loss:.4f}, Train Acc: {train_acc:.4f}\")\n",
        "    print(f\"Val Loss: {val_loss:.4f}, Val Acc: {val_acc:.4f}\")\n",
        "\n",
        "    early_stopper(val_loss, model_ef)\n",
        "\n",
        "    if early_stopper.early_stop:\n",
        "        print(f\"Early stopping at epoch {epoch+1}\")\n",
        "        break\n",
        "\n",
        "model_ef.load_state_dict(early_stopper.best_model_state)\n",
        "\n",
        "plt.figure(figsize=(12, 5))\n",
        "\n",
        "plt.subplot(1, 2, 1)\n",
        "plt.plot(train_losses, label='Train Loss')\n",
        "plt.plot(val_losses, label='Val Loss')\n",
        "plt.xlabel('Epoch')\n",
        "plt.ylabel('Loss')\n",
        "plt.legend()\n",
        "plt.title('Loss Evolution')\n",
        "\n",
        "plt.subplot(1, 2, 2)\n",
        "plt.plot(train_accs, label='Train Accuracy')\n",
        "plt.plot(val_accs, label='Val Accuracy')\n",
        "plt.xlabel('Epoch')\n",
        "plt.ylabel('Accuracy')\n",
        "plt.legend()\n",
        "plt.title('Accuracy Evolution')\n",
        "\n",
        "plt.tight_layout()\n",
        "plt.show()\n"
      ],
      "metadata": {
        "colab": {
          "base_uri": "https://localhost:8080/",
          "height": 1000
        },
        "id": "xSU5XPyj1Ww0",
        "outputId": "c048fb60-834d-44e2-847f-96549d19ccea"
      },
      "execution_count": 24,
      "outputs": [
        {
          "output_type": "stream",
          "name": "stderr",
          "text": [
            "100%|██████████| 2500/2500 [02:02<00:00, 20.42it/s]\n"
          ]
        },
        {
          "output_type": "stream",
          "name": "stdout",
          "text": [
            "Epoch [1/50]\n",
            "Train Loss: 3.1824, Train Acc: 0.2273\n",
            "Val Loss: 2.8577, Val Acc: 0.2836\n"
          ]
        },
        {
          "output_type": "stream",
          "name": "stderr",
          "text": [
            "100%|██████████| 2500/2500 [02:01<00:00, 20.53it/s]\n"
          ]
        },
        {
          "output_type": "stream",
          "name": "stdout",
          "text": [
            "Epoch [2/50]\n",
            "Train Loss: 2.7109, Train Acc: 0.3113\n",
            "Val Loss: 2.6820, Val Acc: 0.3179\n"
          ]
        },
        {
          "output_type": "stream",
          "name": "stderr",
          "text": [
            "100%|██████████| 2500/2500 [02:01<00:00, 20.50it/s]\n"
          ]
        },
        {
          "output_type": "stream",
          "name": "stdout",
          "text": [
            "Epoch [3/50]\n",
            "Train Loss: 2.4424, Train Acc: 0.3634\n",
            "Val Loss: 2.5982, Val Acc: 0.3408\n"
          ]
        },
        {
          "output_type": "stream",
          "name": "stderr",
          "text": [
            "100%|██████████| 2500/2500 [02:02<00:00, 20.42it/s]\n"
          ]
        },
        {
          "output_type": "stream",
          "name": "stdout",
          "text": [
            "Epoch [4/50]\n",
            "Train Loss: 2.2025, Train Acc: 0.4138\n",
            "Val Loss: 2.6107, Val Acc: 0.3420\n"
          ]
        },
        {
          "output_type": "stream",
          "name": "stderr",
          "text": [
            "100%|██████████| 2500/2500 [02:03<00:00, 20.32it/s]\n"
          ]
        },
        {
          "output_type": "stream",
          "name": "stdout",
          "text": [
            "Epoch [5/50]\n",
            "Train Loss: 1.9847, Train Acc: 0.4625\n",
            "Val Loss: 2.6404, Val Acc: 0.3457\n"
          ]
        },
        {
          "output_type": "stream",
          "name": "stderr",
          "text": [
            "100%|██████████| 2500/2500 [02:02<00:00, 20.46it/s]\n"
          ]
        },
        {
          "output_type": "stream",
          "name": "stdout",
          "text": [
            "Epoch [6/50]\n",
            "Train Loss: 1.7636, Train Acc: 0.5165\n",
            "Val Loss: 2.7220, Val Acc: 0.3474\n"
          ]
        },
        {
          "output_type": "stream",
          "name": "stderr",
          "text": [
            "100%|██████████| 2500/2500 [02:02<00:00, 20.39it/s]\n"
          ]
        },
        {
          "output_type": "stream",
          "name": "stdout",
          "text": [
            "Epoch [7/50]\n",
            "Train Loss: 1.5667, Train Acc: 0.5646\n",
            "Val Loss: 2.8231, Val Acc: 0.3419\n"
          ]
        },
        {
          "output_type": "stream",
          "name": "stderr",
          "text": [
            "100%|██████████| 2500/2500 [02:01<00:00, 20.55it/s]\n"
          ]
        },
        {
          "output_type": "stream",
          "name": "stdout",
          "text": [
            "Epoch [8/50]\n",
            "Train Loss: 1.3772, Train Acc: 0.6133\n",
            "Val Loss: 2.9412, Val Acc: 0.3443\n",
            "⏹️ Early stopping triggered!\n"
          ]
        },
        {
          "output_type": "display_data",
          "data": {
            "text/plain": [
              "<Figure size 1200x500 with 2 Axes>"
            ],
            "image/png": "[encoded data removed]"
          },
          "metadata": {}
        }
      ]
    },
    {
      "cell_type": "markdown",
      "source": [
        "## Test d'amélioration: Autre modèle EfficientNet_B2"
      ],
      "metadata": {
        "id": "zaXZNarAv1cr"
      }
    },
    {
      "cell_type": "code",
      "source": [
        "import torch\n",
        "import torch.nn as nn\n",
        "import torch.optim as optim\n",
        "from torchvision import models\n",
        "import matplotlib.pyplot as plt\n",
        "from tqdm import tqdm\n",
        "import copy\n",
        "from datetime import datetime\n",
        "\n",
        "class EfficientNetModel(nn.Module):\n",
        "    def __init__(self, num_classes):\n",
        "        super(EfficientNetModel, self).__init__()\n",
        "        self.efficientnet = models.efficientnet_b2(weights=models.EfficientNet_B2_Weights.IMAGENET1K_V1)\n",
        "        self.efficientnet.classifier[0].p = 0.4\n",
        "        self.efficientnet.classifier[1] = nn.Linear(\n",
        "            self.efficientnet.classifier[1].in_features, num_classes\n",
        "        )\n",
        "\n",
        "    def forward(self, x):\n",
        "        x = x.squeeze(1)\n",
        "        return self.efficientnet(x)\n",
        "\n",
        "class EarlyStopping:\n",
        "    def __init__(self, patience=5, min_delta=0.001):\n",
        "        self.patience = patience\n",
        "        self.min_delta = min_delta\n",
        "        self.counter = 0\n",
        "        self.best_loss = None\n",
        "        self.early_stop = False\n",
        "        self.best_model_state = None\n",
        "\n",
        "    def __call__(self, val_loss, model):\n",
        "        if self.best_loss is None or val_loss < self.best_loss - self.min_delta:\n",
        "            self.best_loss = val_loss\n",
        "            self.counter = 0\n",
        "            self.best_model_state = copy.deepcopy(model.state_dict())\n",
        "        else:\n",
        "            self.counter += 1\n",
        "            if self.counter >= self.patience:\n",
        "                self.early_stop = True\n",
        "\n",
        "NUM_CLASSES = 172\n",
        "NUM_EPOCHS = 20\n",
        "LEARNING_RATE = 1e-4\n",
        "DEVICE = torch.device(\"cuda\" if torch.cuda.is_available() else \"cpu\")\n",
        "\n",
        "model_ef = EfficientNetModel(num_classes=NUM_CLASSES).to(DEVICE)\n",
        "\n",
        "for param in model_ef.efficientnet.features[:4].parameters():\n",
        "    param.requires_grad = False\n",
        "\n",
        "criterion = nn.CrossEntropyLoss()\n",
        "optimizer_ef = optim.Adam(model_ef.parameters(), lr=LEARNING_RATE)\n",
        "scheduler = optim.lr_scheduler.ReduceLROnPlateau(optimizer_ef, mode='min', factor=0.5, patience=2, verbose=True)\n",
        "early_stopper = EarlyStopping(patience=5)\n",
        "\n",
        "def train_epoch(model, loader, criterion, optimizer, device):\n",
        "    model.train()\n",
        "    running_loss, correct, total = 0.0, 0, 0\n",
        "    for images, labels in tqdm(loader):\n",
        "        images, labels = images.to(device), labels.to(device)\n",
        "        outputs = model(images)\n",
        "        loss = criterion(outputs, labels)\n",
        "\n",
        "        optimizer.zero_grad()\n",
        "        loss.backward()\n",
        "        optimizer.step()\n",
        "\n",
        "        running_loss += loss.item()\n",
        "        _, predicted = outputs.max(1)\n",
        "        correct += predicted.eq(labels).sum().item()\n",
        "        total += labels.size(0)\n",
        "\n",
        "    return running_loss / len(loader), correct / total\n",
        "\n",
        "def evaluate(model, loader, criterion, device):\n",
        "    model.eval()\n",
        "    running_loss, correct, total = 0.0, 0, 0\n",
        "    with torch.no_grad():\n",
        "        for images, labels in loader:\n",
        "            images, labels = images.to(device), labels.to(device)\n",
        "            outputs = model(images)\n",
        "            loss = criterion(outputs, labels)\n",
        "\n",
        "            running_loss += loss.item()\n",
        "            _, predicted = outputs.max(1)\n",
        "            correct += predicted.eq(labels).sum().item()\n",
        "            total += labels.size(0)\n",
        "\n",
        "    return running_loss / len(loader), correct / total\n",
        "\n",
        "train_losses, train_accs = [], []\n",
        "val_losses, val_accs = [], []\n",
        "\n",
        "for epoch in range(NUM_EPOCHS):\n",
        "    print(f\"\\nEpoch {epoch+1}/{NUM_EPOCHS}\")\n",
        "    train_loss, train_acc = train_epoch(model_ef, train_loader, criterion, optimizer_ef, DEVICE)\n",
        "    val_loss, val_acc = evaluate(model_ef, val_loader, criterion, DEVICE)\n",
        "\n",
        "    train_losses.append(train_loss)\n",
        "    train_accs.append(train_acc)\n",
        "    val_losses.append(val_loss)\n",
        "    val_accs.append(val_acc)\n",
        "\n",
        "    print(f\"Train Loss: {train_loss:.4f}, Train Acc: {train_acc:.4f}\")\n",
        "    print(f\"Val Loss: {val_loss:.4f}, Val Acc: {val_acc:.4f}\")\n",
        "\n",
        "    scheduler.step(val_loss)\n",
        "    early_stopper(val_loss, model_ef)\n",
        "\n",
        "    if early_stopper.early_stop:\n",
        "        print(f\"Early stopping at epoch {epoch+1}\")\n",
        "        break\n",
        "\n",
        "model_ef.load_state_dict(early_stopper.best_model_state)\n",
        "\n",
        "time = datetime.now().strftime(\"%Y-%m-%d_%H-%M-%S\")\n",
        "name = \"efficientnet_b2\"\n",
        "torch.save(model_ef, f\"{MODELS}/{name}_best_model_{time}.pth\")\n",
        "print(f\"Modèle sauvegardé sous : {MODELS}/{name}_best_model_{time}.pth\")\n",
        "\n",
        "plt.figure(figsize=(12, 5))\n",
        "\n",
        "plt.subplot(1, 2, 1)\n",
        "plt.plot(train_losses, label='Train Loss')\n",
        "plt.plot(val_losses, label='Val Loss')\n",
        "plt.xlabel('Epoch')\n",
        "plt.ylabel('Loss')\n",
        "plt.legend()\n",
        "plt.title('Loss Evolution')\n",
        "\n",
        "plt.subplot(1, 2, 2)\n",
        "plt.plot(train_accs, label='Train Accuracy')\n",
        "plt.plot(val_accs, label='Val Accuracy')\n",
        "plt.xlabel('Epoch')\n",
        "plt.ylabel('Accuracy')\n",
        "plt.legend()\n",
        "plt.title('Accuracy Evolution')\n",
        "\n",
        "plt.tight_layout()\n",
        "plt.show()"
      ],
      "metadata": {
        "colab": {
          "base_uri": "https://localhost:8080/",
          "height": 1000
        },
        "id": "qe-_LX5-7VvR",
        "outputId": "2ad2a135-5a8e-4e1c-fa0c-f92cf161b74a"
      },
      "execution_count": 25,
      "outputs": [
        {
          "output_type": "stream",
          "name": "stderr",
          "text": [
            "Downloading: \"https://download.pytorch.org/models/efficientnet_b2_rwightman-c35c1473.pth\" to /root/.cache/torch/hub/checkpoints/efficientnet_b2_rwightman-c35c1473.pth\n",
            "100%|██████████| 35.2M/35.2M [00:00<00:00, 223MB/s]\n",
            "/usr/local/lib/python3.11/dist-packages/torch/optim/lr_scheduler.py:62: UserWarning: The verbose parameter is deprecated. Please use get_last_lr() to access the learning rate.\n",
            "  warnings.warn(\n"
          ]
        },
        {
          "output_type": "stream",
          "name": "stdout",
          "text": [
            "\n",
            "Epoch 1/20\n"
          ]
        },
        {
          "output_type": "stream",
          "name": "stderr",
          "text": [
            "100%|██████████| 2500/2500 [02:00<00:00, 20.80it/s]\n"
          ]
        },
        {
          "output_type": "stream",
          "name": "stdout",
          "text": [
            "Train Loss: 3.1781, Train Acc: 0.2301\n",
            "Val Loss: 2.8454, Val Acc: 0.2845\n",
            "\n",
            "Epoch 2/20\n"
          ]
        },
        {
          "output_type": "stream",
          "name": "stderr",
          "text": [
            "100%|██████████| 2500/2500 [01:59<00:00, 20.97it/s]\n"
          ]
        },
        {
          "output_type": "stream",
          "name": "stdout",
          "text": [
            "Train Loss: 2.7020, Train Acc: 0.3136\n",
            "Val Loss: 2.6686, Val Acc: 0.3224\n",
            "\n",
            "Epoch 3/20\n"
          ]
        },
        {
          "output_type": "stream",
          "name": "stderr",
          "text": [
            "100%|██████████| 2500/2500 [01:59<00:00, 20.97it/s]\n"
          ]
        },
        {
          "output_type": "stream",
          "name": "stdout",
          "text": [
            "Train Loss: 2.3949, Train Acc: 0.3775\n",
            "Val Loss: 2.6255, Val Acc: 0.3391\n",
            "\n",
            "Epoch 4/20\n"
          ]
        },
        {
          "output_type": "stream",
          "name": "stderr",
          "text": [
            "100%|██████████| 2500/2500 [01:59<00:00, 20.93it/s]\n"
          ]
        },
        {
          "output_type": "stream",
          "name": "stdout",
          "text": [
            "Train Loss: 2.1117, Train Acc: 0.4379\n",
            "Val Loss: 2.6329, Val Acc: 0.3436\n",
            "\n",
            "Epoch 5/20\n"
          ]
        },
        {
          "output_type": "stream",
          "name": "stderr",
          "text": [
            "100%|██████████| 2500/2500 [01:59<00:00, 20.91it/s]\n"
          ]
        },
        {
          "output_type": "stream",
          "name": "stdout",
          "text": [
            "Train Loss: 1.8369, Train Acc: 0.5020\n",
            "Val Loss: 2.7248, Val Acc: 0.3420\n",
            "\n",
            "Epoch 6/20\n"
          ]
        },
        {
          "output_type": "stream",
          "name": "stderr",
          "text": [
            "100%|██████████| 2500/2500 [01:58<00:00, 21.08it/s]\n"
          ]
        },
        {
          "output_type": "stream",
          "name": "stdout",
          "text": [
            "Train Loss: 1.5724, Train Acc: 0.5676\n",
            "Val Loss: 2.8742, Val Acc: 0.3286\n",
            "\n",
            "Epoch 7/20\n"
          ]
        },
        {
          "output_type": "stream",
          "name": "stderr",
          "text": [
            "100%|██████████| 2500/2500 [01:59<00:00, 20.91it/s]\n"
          ]
        },
        {
          "output_type": "stream",
          "name": "stdout",
          "text": [
            "Train Loss: 1.2340, Train Acc: 0.6575\n",
            "Val Loss: 2.9569, Val Acc: 0.3347\n",
            "\n",
            "Epoch 8/20\n"
          ]
        },
        {
          "output_type": "stream",
          "name": "stderr",
          "text": [
            "100%|██████████| 2500/2500 [01:59<00:00, 20.96it/s]\n"
          ]
        },
        {
          "output_type": "stream",
          "name": "stdout",
          "text": [
            "Train Loss: 1.0737, Train Acc: 0.6999\n",
            "Val Loss: 3.1131, Val Acc: 0.3341\n",
            "⏹️ Early stopping triggered!\n",
            "💾 Modèle sauvegardé sous : models/efficientnet_b2_best_model_2025-04-17_18-22-24.pth\n"
          ]
        },
        {
          "output_type": "display_data",
          "data": {
            "text/plain": [
              "<Figure size 1200x500 with 2 Axes>"
            ],
            "image/png": "[encoded data removed]"
          },
          "metadata": {}
        }
      ]
    },
    {
      "cell_type": "code",
      "source": [],
      "metadata": {
        "id": "_XWQdixN7Xn7"
      },
      "execution_count": null,
      "outputs": []
    }
  ],
  "metadata": {
    "kernelspec": {
      "display_name": "Python 3",
      "name": "python3"
    },
    "language_info": {
      "codemirror_mode": {
        "name": "ipython",
        "version": 3
      },
      "file_extension": ".py",
      "mimetype": "text/x-python",
      "name": "python",
      "nbconvert_exporter": "python",
      "pygments_lexer": "ipython3",
      "version": "3.11.4"
    },
    "colab": {
      "provenance": [],
      "gpuType": "A100",
      "machine_shape": "hm"
    },
    "accelerator": "GPU"
  },
  "nbformat": 4,
  "nbformat_minor": 0
}