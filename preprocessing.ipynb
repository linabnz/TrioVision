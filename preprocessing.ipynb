{
 "cells": [
  {
   "cell_type": "code",
   "execution_count": 8,
   "metadata": {},
   "outputs": [],
   "source": [
    "import pandas as pd\n",
    "import os\n",
    "import urllib.request"
   ]
  },
  {
   "cell_type": "code",
   "execution_count": 2,
   "metadata": {},
   "outputs": [
    {
     "name": "stdout",
     "output_type": "stream",
     "text": [
      "Train.csv :\n",
      "                 id                                                url  \\\n",
      "0  6e158a47eb2ca3f6  https://upload.wikimedia.org/wikipedia/commons...   \n",
      "1  202cd79556f30760  http://upload.wikimedia.org/wikipedia/commons/...   \n",
      "2  3ad87684c99c06e1  http://upload.wikimedia.org/wikipedia/commons/...   \n",
      "3  e7f70e9c61e66af3  https://upload.wikimedia.org/wikipedia/commons...   \n",
      "4  4072182eddd0100e  https://upload.wikimedia.org/wikipedia/commons...   \n",
      "\n",
      "   landmark_id  \n",
      "0       142820  \n",
      "1       104169  \n",
      "2        37914  \n",
      "3       102140  \n",
      "4         2474  \n",
      "\n",
      "train_label_to_category.csv :\n",
      "   landmark_id                                           category\n",
      "0            0  http://commons.wikimedia.org/wiki/Category:Hap...\n",
      "1            1  http://commons.wikimedia.org/wiki/Category:Lui...\n",
      "2            2  http://commons.wikimedia.org/wiki/Category:Gra...\n",
      "3            3  http://commons.wikimedia.org/wiki/Category:Twe...\n",
      "4            4  http://commons.wikimedia.org/wiki/Category:San...\n",
      "\n",
      "Categories uniques :\n",
      "['http://commons.wikimedia.org/wiki/Category:Happy_Valley_Racecourse'\n",
      " 'http://commons.wikimedia.org/wiki/Category:Luitpoldpark_in_Munich'\n",
      " 'http://commons.wikimedia.org/wiki/Category:Grand_Ventron' ...\n",
      " 'http://commons.wikimedia.org/wiki/Category:Silesian_Beskids_Landscape_Park'\n",
      " 'http://commons.wikimedia.org/wiki/Category:Hoa_Lu'\n",
      " 'http://commons.wikimedia.org/wiki/Category:Stones_Fan_Museum']\n"
     ]
    }
   ],
   "source": [
    "train_df = pd.read_csv(r\"C:\\Users\\lbenzemma\\Desktop\\Projets Master2 MOSEF\\deep learning\\projet DL\\DL\\data\\train.csv\")  \n",
    "category_df = pd.read_csv(r\"C:\\Users\\lbenzemma\\Desktop\\Projets Master2 MOSEF\\deep learning\\projet DL\\DL\\data\\train_label_to_category.csv\")  \n",
    "print(\"Train.csv :\")\n",
    "print(train_df.head())\n",
    "print(\"\\ntrain_label_to_category.csv :\")\n",
    "print(category_df.head())\n",
    "print(\"\\nCategories uniques :\")\n",
    "print(category_df[\"category\"].unique())"
   ]
  },
  {
   "cell_type": "markdown",
   "metadata": {},
   "source": [
    "**Filtrer les landmarks correspondant aux pays de l'Océanie**"
   ]
  },
  {
   "cell_type": "code",
   "execution_count": 12,
   "metadata": {},
   "outputs": [
    {
     "name": "stdout",
     "output_type": "stream",
     "text": [
      "Nombre de landmarks en Océanie : 172\n"
     ]
    }
   ],
   "source": [
    "pays_oceanie = [\"Australia\", \"Fiji\", \"Kiribati\", \"Marshall Islands\", \"Micronesia\", \n",
    "                \"Nauru\", \"New Zealand\", \"Palaos\", \"Papua New Guinea\", \"Samoa\", \n",
    "                \"Tonga\", \"Tuvalu\", \"Vanuatu\"]\n",
    "\n",
    "oceanie_landmarks = category_df[category_df[\"category\"].str.contains('|'.join(pays_oceanie), case=False, na=False)]\n",
    "\n",
    "landmarks_oceanie_ids = oceanie_landmarks[\"landmark_id\"].unique()\n",
    "\n",
    "oceanie_landmarks.to_csv(\"data\\landmarks_oceanie.csv\", index=False)\n",
    "\n",
    "print(f\"Nombre de landmarks en Océanie : {len(landmarks_oceanie_ids)}\")\n"
   ]
  },
  {
   "cell_type": "code",
   "execution_count": 13,
   "metadata": {},
   "outputs": [
    {
     "name": "stdout",
     "output_type": "stream",
     "text": [
      "Australia : 151 landmarks\n",
      "Fiji : 4 landmarks\n",
      "Kiribati : 0 landmarks\n",
      "Marshall Islands : 0 landmarks\n",
      "Micronesia : 0 landmarks\n",
      "Nauru : 2 landmarks\n",
      "New Zealand : 0 landmarks\n",
      "Palaos : 0 landmarks\n",
      "Papua New Guinea : 0 landmarks\n",
      "Samoa : 3 landmarks\n",
      "Tonga : 12 landmarks\n",
      "Tuvalu : 0 landmarks\n",
      "Vanuatu : 0 landmarks\n"
     ]
    }
   ],
   "source": [
    "landmarks_par_pays = {}\n",
    "for pays in pays_oceanie:\n",
    "    count = oceanie_landmarks[oceanie_landmarks[\"category\"].str.contains(pays, case=False, na=False)][\"landmark_id\"].nunique()\n",
    "    landmarks_par_pays[pays] = count\n",
    "for pays, count in landmarks_par_pays.items():\n",
    "    print(f\"{pays} : {count} landmarks\")"
   ]
  },
  {
   "cell_type": "markdown",
   "metadata": {},
   "source": [
    "**L'Australie domine avec 151 landmarks, ce qui est attendu vu la taille du pays.**\n",
    "**Palau arrive en deuxième avec 85 landmarks**\n",
    "**Tonga, Fidji, Samoa et Nauru ont quelques landmarks**\n",
    "**Aucun landmark trouvé pour la Nouvelle-Zélande, la Papouasie-NG, Tuvalu, Kiribati, Micronésie, Îles Marshall et Vanuatu.**"
   ]
  },
  {
   "cell_type": "code",
   "execution_count": 14,
   "metadata": {},
   "outputs": [
    {
     "name": "stdout",
     "output_type": "stream",
     "text": [
      "Nombre d'images à télécharger : 3050\n"
     ]
    }
   ],
   "source": [
    "pays_disponibles = [\"Australia\", \"Palau\", \"Tonga\", \"Fiji\", \"Samoa\", \"Nauru\"]\n",
    "\n",
    "landmarks_filtres = oceanie_landmarks[oceanie_landmarks[\"category\"].str.contains('|'.join(pays_disponibles), case=False, na=False)]\n",
    "landmarks_ids = landmarks_filtres[\"landmark_id\"].unique()\n",
    "\n",
    "train_oceanie = train_df[train_df[\"landmark_id\"].isin(landmarks_ids)]\n",
    "\n",
    "train_oceanie.to_csv(r\"data\\train_oceanie_final.csv\", index=False)\n",
    "\n",
    "print(f\"Nombre d'images à télécharger : {len(train_oceanie)}\")\n"
   ]
  }
 ],
 "metadata": {
  "kernelspec": {
   "display_name": "venv",
   "language": "python",
   "name": "python3"
  },
  "language_info": {
   "codemirror_mode": {
    "name": "ipython",
    "version": 3
   },
   "file_extension": ".py",
   "mimetype": "text/x-python",
   "name": "python",
   "nbconvert_exporter": "python",
   "pygments_lexer": "ipython3",
   "version": "3.11.9"
  }
 },
 "nbformat": 4,
 "nbformat_minor": 2
}
